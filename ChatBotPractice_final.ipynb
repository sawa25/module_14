{
  "cells": [
    {
      "cell_type": "code",
      "execution_count": 2,
      "metadata": {},
      "outputs": [],
      "source": [
        "# conda install -c conda-forge python-annoy\n",
        "# conda install -c conda-forge pymorphy2\n",
        "# conda install -c conda-forge stop-words\n",
        "# conda install -c conda-forge gensim\n",
        "# conda install -c conda-forge ipywidgets\n",
        "\n",
        "# pip install chardet для определения кодировщика"
      ]
    },
    {
      "cell_type": "code",
      "execution_count": 5,
      "metadata": {
        "id": "1LJvRpgiP5Oe"
      },
      "outputs": [],
      "source": [
        "import os\n",
        "import string\n",
        "import annoy\n",
        "\n",
        "from pymorphy2 import MorphAnalyzer\n",
        "from stop_words import get_stop_words\n",
        "from gensim.models import Word2Vec\n",
        "\n",
        "import numpy as np\n",
        "from tqdm import tqdm_notebook\n",
        "import pandas as pd\n",
        "import codecs\n",
        "DIR=\"..\\\\..\\\\chunk\\\\14\\\\\""
      ]
    },
    {
      "cell_type": "code",
      "execution_count": 49,
      "metadata": {},
      "outputs": [],
      "source": [
        "pds=pd.read_csv(f'{DIR}ProductsDataset.csv')\n"
      ]
    },
    {
      "cell_type": "code",
      "execution_count": 50,
      "metadata": {},
      "outputs": [
        {
          "name": "stdout",
          "output_type": "stream",
          "text": [
            "<class 'pandas.core.frame.DataFrame'>\n",
            "RangeIndex: 35548 entries, 0 to 35547\n",
            "Data columns (total 7 columns):\n",
            " #   Column          Non-Null Count  Dtype  \n",
            "---  ------          --------------  -----  \n",
            " 0   title           35548 non-null  object \n",
            " 1   descrirption    33537 non-null  object \n",
            " 2   product_id      35536 non-null  object \n",
            " 3   category_id     35536 non-null  float64\n",
            " 4   subcategory_id  35536 non-null  object \n",
            " 5   properties      35536 non-null  object \n",
            " 6   image_links     35533 non-null  object \n",
            "dtypes: float64(1), object(6)\n",
            "memory usage: 1.9+ MB\n"
          ]
        }
      ],
      "source": [
        "pds.info()"
      ]
    },
    {
      "cell_type": "code",
      "execution_count": 51,
      "metadata": {},
      "outputs": [
        {
          "data": {
            "text/html": [
              "<div>\n",
              "<style scoped>\n",
              "    .dataframe tbody tr th:only-of-type {\n",
              "        vertical-align: middle;\n",
              "    }\n",
              "\n",
              "    .dataframe tbody tr th {\n",
              "        vertical-align: top;\n",
              "    }\n",
              "\n",
              "    .dataframe thead th {\n",
              "        text-align: right;\n",
              "    }\n",
              "</style>\n",
              "<table border=\"1\" class=\"dataframe\">\n",
              "  <thead>\n",
              "    <tr style=\"text-align: right;\">\n",
              "      <th></th>\n",
              "      <th>title</th>\n",
              "      <th>descrirption</th>\n",
              "      <th>product_id</th>\n",
              "      <th>category_id</th>\n",
              "      <th>subcategory_id</th>\n",
              "      <th>properties</th>\n",
              "      <th>image_links</th>\n",
              "    </tr>\n",
              "  </thead>\n",
              "  <tbody>\n",
              "    <tr>\n",
              "      <th>0</th>\n",
              "      <td>Юбка детская ORBY</td>\n",
              "      <td>Новая, не носили ни разу. В реале красивей чем...</td>\n",
              "      <td>58e3cfe6132ca50e053f5f82</td>\n",
              "      <td>22.0</td>\n",
              "      <td>2211</td>\n",
              "      <td>{'detskie_razmer_rost': '81-86 (1,5 года)'}</td>\n",
              "      <td>http://cache3.youla.io/files/images/360_360/58...</td>\n",
              "    </tr>\n",
              "    <tr>\n",
              "      <th>3</th>\n",
              "      <td>Продам детские шапки</td>\n",
              "      <td>Продам шапки,кажда 200р.Розовая и белая проданны.</td>\n",
              "      <td>57de544096ad842e26de8027</td>\n",
              "      <td>22.0</td>\n",
              "      <td>2217</td>\n",
              "      <td>{'detskie_pol': 'Девочкам', 'detskaya_odezhda_...</td>\n",
              "      <td>http://cache3.youla.io/files/images/360_360/57...</td>\n",
              "    </tr>\n",
              "    <tr>\n",
              "      <th>14</th>\n",
              "      <td>Ветровка детская, Италия</td>\n",
              "      <td>Практичная и стильная ветровка Club des Sports...</td>\n",
              "      <td>593a439ec6ab9e8bb5071895</td>\n",
              "      <td>22.0</td>\n",
              "      <td>2204</td>\n",
              "      <td>{'detskie_tzvet': 'Черный', 'detskie_razmer_ro...</td>\n",
              "      <td>http://cache3.youla.io/files/images/360_360/59...</td>\n",
              "    </tr>\n",
              "    <tr>\n",
              "      <th>18</th>\n",
              "      <td>Розовое платье с пелеринкой</td>\n",
              "      <td>Платье для девочки (9-10 лет) в отличном состо...</td>\n",
              "      <td>596d0169de88542768771815</td>\n",
              "      <td>22.0</td>\n",
              "      <td>2211</td>\n",
              "      <td>{'detskie_razmer_rost': '135-140 (10 лет)', 'd...</td>\n",
              "      <td>http://cache3.youla.io/files/images/360_360/59...</td>\n",
              "    </tr>\n",
              "    <tr>\n",
              "      <th>20</th>\n",
              "      <td>Комбинезон 68р на девочку</td>\n",
              "      <td>Фирма C&amp;A, привозили из Германии, отличное кач...</td>\n",
              "      <td>57de45b50cc3da643066dafc</td>\n",
              "      <td>22.0</td>\n",
              "      <td>2204</td>\n",
              "      <td>{'detskie_pol': 'Девочкам', 'detskie_razmer_ro...</td>\n",
              "      <td>http://cache3.youla.io/files/images/360_360/57...</td>\n",
              "    </tr>\n",
              "  </tbody>\n",
              "</table>\n",
              "</div>"
            ],
            "text/plain": [
              "                          title  \\\n",
              "0             Юбка детская ORBY   \n",
              "3          Продам детские шапки   \n",
              "14     Ветровка детская, Италия   \n",
              "18  Розовое платье с пелеринкой   \n",
              "20    Комбинезон 68р на девочку   \n",
              "\n",
              "                                         descrirption  \\\n",
              "0   Новая, не носили ни разу. В реале красивей чем...   \n",
              "3   Продам шапки,кажда 200р.Розовая и белая проданны.   \n",
              "14  Практичная и стильная ветровка Club des Sports...   \n",
              "18  Платье для девочки (9-10 лет) в отличном состо...   \n",
              "20  Фирма C&A, привозили из Германии, отличное кач...   \n",
              "\n",
              "                  product_id  category_id subcategory_id  \\\n",
              "0   58e3cfe6132ca50e053f5f82         22.0           2211   \n",
              "3   57de544096ad842e26de8027         22.0           2217   \n",
              "14  593a439ec6ab9e8bb5071895         22.0           2204   \n",
              "18  596d0169de88542768771815         22.0           2211   \n",
              "20  57de45b50cc3da643066dafc         22.0           2204   \n",
              "\n",
              "                                           properties  \\\n",
              "0         {'detskie_razmer_rost': '81-86 (1,5 года)'}   \n",
              "3   {'detskie_pol': 'Девочкам', 'detskaya_odezhda_...   \n",
              "14  {'detskie_tzvet': 'Черный', 'detskie_razmer_ro...   \n",
              "18  {'detskie_razmer_rost': '135-140 (10 лет)', 'd...   \n",
              "20  {'detskie_pol': 'Девочкам', 'detskie_razmer_ro...   \n",
              "\n",
              "                                          image_links  \n",
              "0   http://cache3.youla.io/files/images/360_360/58...  \n",
              "3   http://cache3.youla.io/files/images/360_360/57...  \n",
              "14  http://cache3.youla.io/files/images/360_360/59...  \n",
              "18  http://cache3.youla.io/files/images/360_360/59...  \n",
              "20  http://cache3.youla.io/files/images/360_360/57...  "
            ]
          },
          "execution_count": 51,
          "metadata": {},
          "output_type": "execute_result"
        }
      ],
      "source": [
        "pds[pds.category_id==22].head(5)"
      ]
    },
    {
      "cell_type": "markdown",
      "metadata": {},
      "source": [
        "вспомогательный обработчик текстов, включающий функции удаления стопслов, знаков пунктуации и приведения слов к начальной форме\n",
        "для уменьшения размерности корпуса векторов, сопоставляемых набору разных слов"
      ]
    },
    {
      "cell_type": "code",
      "execution_count": 31,
      "metadata": {
        "id": "ky7bZJ9xP5On"
      },
      "outputs": [],
      "source": [
        "morpher = MorphAnalyzer()\n",
        "sw = set(get_stop_words(\"ru\"))\n",
        "exclude = set(string.punctuation)\n",
        "\n",
        "def preprocess_txt(line):\n",
        "    spls = \"\".join(i for i in line.strip() if i not in exclude).split()\n",
        "    spls = [morpher.parse(i.lower())[0].normal_form for i in spls]\n",
        "    spls = [i for i in spls if i not in sw and i != \"\"]\n",
        "    return spls"
      ]
    },
    {
      "cell_type": "markdown",
      "metadata": {
        "id": "DrdA0HmPP5Oj"
      },
      "source": [
        "Предобработаем ответы mail.ru из файла: выбрать только вопросы и поместить в датасет.\n",
        "эти вопросы предполагается использовать для обучения логистической регрессии - как тексты, не связанные с товарными запросами(хотя не исключено, что в запросах мейл такие могут присутствовать)"
      ]
    },
    {
      "cell_type": "code",
      "execution_count": 53,
      "metadata": {
        "id": "Ul4dgvpnP5Ol"
      },
      "outputs": [
        {
          "name": "stderr",
          "output_type": "stream",
          "text": [
            "  0%|          | 15461/1847850502 [14:46:35<1766039:56:36,  3.44s/it]\n",
            " 36%|███▌      | 658252978/1847850502 [2:26:26<7:43:42, 42756.26it/s] "
          ]
        }
      ],
      "source": [
        "# %%time\n",
        "# from tqdm.notebook import tqdm\n",
        "# tqdm.pandas()\n",
        "\n",
        "from tqdm import tqdm, notebook\n",
        "import time\n",
        "df=pd.DataFrame(columns=['question','answer'])\n",
        "\n",
        "#Мы идем по всем записям, просматриваем содержимое\n",
        "# и сразу после знака --- находим вопрос\n",
        "with open(file_name:=f\"{DIR}Otvety.txt\", \"r\",encoding='utf-8') as fin:\n",
        "    t = tqdm(total=os.stat(file_name).st_size) # инициализировать прогресбар размером файла\n",
        "    start_time = time.time() #использовать интервал для настройки частоты отображения прогресбара\n",
        "    question = False\n",
        "    written = False\n",
        "    lastpos=0\n",
        "    tmpcnt=0\n",
        "    while line:=fin.readline():\n",
        "        if time.time()-start_time>2:\n",
        "            start_time = time.time()\n",
        "            t.update((fin.tell()-lastpos,lastpos:=fin.tell())[0])\n",
        "        # if tmpcnt>10: break\n",
        "        if line.startswith(\"---\"):#начало блока вопрос/несколько ответов\n",
        "            tmpcnt+=1\n",
        "            written = False\n",
        "            question = False\n",
        "            continue\n",
        "        line=line.replace(\"\\t\", \" \").replace(\"<br>\", \"\").strip().lower()\n",
        "        if question:\n",
        "            # сохранить ответ в текущий(последний) ряд\n",
        "            df.iloc[-1]['answer']=df.iloc[-1]['answer']+line +'\\t'\n",
        "            written = True\n",
        "            continue\n",
        "        if not question:\n",
        "            # сохранить вопрос\n",
        "            question = True\n",
        "            df=pd.concat([df,pd.DataFrame({'question':[line],'answer':['']})],ignore_index=True)\n",
        "            continue\n",
        "    t.update((fin.tell()-lastpos,lastpos:=fin.tell())[0])\n",
        "\n",
        "display(df)\n"
      ]
    },
    {
      "cell_type": "code",
      "execution_count": 52,
      "metadata": {},
      "outputs": [
        {
          "name": "stdout",
          "output_type": "stream",
          "text": [
            "['если это \"счастье \" действительно на вас свалилось, лучше пойти в милицию и заявить о находке. такие деньги просто так не терют, а что самое интересное их неприменно будут искать и поверьте мне найдут, видел подобное в жизни. можно нарваться на бабушку конечно, которая хотела помоч внуку с покупкой квартиры, а можно на бандитов, которые будут с вами разговаривать иначе чем бабушка с милицией. выбор за вами, есть еще конечно шанс, что это подарок с выше за котрый с вас никто не спросит, тогда лучше отдать хотябы 500 на благотворительность. дабы не спугнуть удачу!.', 'что не знаешь что делать? тогда отдай тому кто знает, а если серьезно- можешь отнести их в полицию они найдут что с ними сделать, или другой вариант возьми чуть, а остальные надежно спрячь пускай лежат будешь брать сколько необходимо чтобы подозрений не вызывало не у кого от куда у тебя такие деньги..', 'а не скажете местечко, где такие находки попадаются?))) если бы я нашла два миллиона, я прежде всего растерялась и пребывала в шоке. в первую очередь думаю, нужно убедиться что они настоящие. в полицию я бы скорее всего не пошла, деньги были бы очень кстати..', 'я думаю следует отметить это дело как следует, ну а если хотите поделиться с полицией, то смело отправляйтесь в ближайшее отделение..', 'первым делом - нужно поспать ))) и дурацких ошибок не совершите, и мудрый совет от бессознательного получите во время сна ).', 'одолжите миллион мне, нам на покупку квартиры не хватает))так будет сохраннее..', 'если не знаешь, как развести толпу, то лучше помолчи. ну а если и вправду нашёл такую сумму, то распространяться, тем более в интернете, об этом не следует..', '']\n"
          ]
        }
      ],
      "source": [
        "print(df.iloc[3]['answer'].split('\\t'))"
      ]
    },
    {
      "cell_type": "markdown",
      "metadata": {
        "id": "Hw5tHi8bP5Om"
      },
      "source": [
        "Теперь нам нужно предобработать текст, чтобы обучить word2vec и получить эмбеддинги. Удаляем знаки препинания и делаем лемматизацию"
      ]
    },
    {
      "cell_type": "code",
      "execution_count": 7,
      "metadata": {
        "id": "s_Ra2xeLP5On"
      },
      "outputs": [
        {
          "name": "stderr",
          "output_type": "stream",
          "text": [
            "C:\\Users\\vsevolod.volkov\\AppData\\Local\\Temp\\ipykernel_1596\\871568580.py:9: TqdmDeprecationWarning: This function will be removed in tqdm==5.0.0\n",
            "Please use `tqdm.notebook.tqdm` instead of `tqdm.tqdm_notebook`\n",
            "  for line in tqdm_notebook(fin):\n"
          ]
        },
        {
          "data": {
            "application/json": {
              "ascii": false,
              "bar_format": null,
              "colour": null,
              "elapsed": 0.02097606658935547,
              "initial": 0,
              "n": 0,
              "ncols": null,
              "nrows": null,
              "postfix": null,
              "prefix": "",
              "rate": null,
              "total": null,
              "unit": "it",
              "unit_divisor": 1000,
              "unit_scale": false
            },
            "application/vnd.jupyter.widget-view+json": {
              "model_id": "a06b6d2166f84ab4a4c2fbe8931b62a7",
              "version_major": 2,
              "version_minor": 0
            },
            "text/plain": [
              "0it [00:00, ?it/s]"
            ]
          },
          "metadata": {},
          "output_type": "display_data"
        }
      ],
      "source": [
        "sentences = []\n",
        "\n",
        "c = 0\n",
        "\n",
        "with open(f\"{DIR}Otvety.txt\", \"r\",encoding='utf-8') as fin:\n",
        "    for line in tqdm_notebook(fin):\n",
        "        spls = preprocess_txt(line)\n",
        "        sentences.append(spls)\n",
        "        c += 1\n",
        "        if c > 500000:\n",
        "            break"
      ]
    },
    {
      "cell_type": "code",
      "execution_count": 8,
      "metadata": {
        "id": "7ZiMlSWbP5Oo"
      },
      "outputs": [],
      "source": [
        "# Обучим модель word2vec на наших вопросах\n",
        "sentences = [i for i in sentences if len(i) > 2]\n",
        "model = Word2Vec(sentences=sentences, vector_size=100, min_count=1, window=5)\n",
        "model.save(\"w2v_model\")"
      ]
    },
    {
      "cell_type": "code",
      "execution_count": 27,
      "metadata": {},
      "outputs": [
        {
          "data": {
            "text/plain": [
              "[['вопрос', 'тдв', 'отдыхать', 'лично', 'советовать', 'завести'],\n",
              " ['мужик', 'йопарить', 'собачка', '50', 'кошка'],\n",
              " ['пол', 'памытьbr', 'таг', 'тип', 'каво'],\n",
              " ['советовать', 'сися', 'завести'],\n",
              " ['слава', 'бог', 'мужик', 'завести', 'советовать', 'сватать', 'сватать'],\n",
              " ['советовать', 'завести', 'любовник', 'муж', 'кошка', 'brприветик'],\n",
              " ['парень',\n",
              "  'относиться',\n",
              "  'цветной',\n",
              "  'линза',\n",
              "  'девушка',\n",
              "  'зелёный',\n",
              "  'глаз',\n",
              "  'голубой'],\n",
              " ['вобщий', 'прикалывать', 'тема'],\n",
              " ['этобыть',\n",
              "  'редкость',\n",
              "  'забавно',\n",
              "  'знать',\n",
              "  'фальшивка',\n",
              "  'прикольно',\n",
              "  'силиконовый',\n",
              "  'сиська',\n",
              "  'налепить',\n",
              "  'синтетический',\n",
              "  'волос'],\n",
              " ['делать', 'найти', '2', 'миллион', 'рубль'],\n",
              " ['счастие',\n",
              "  'свалиться',\n",
              "  'хороший',\n",
              "  'пойти',\n",
              "  'милиция',\n",
              "  'заявить',\n",
              "  'находка',\n",
              "  'деньга',\n",
              "  'тероть',\n",
              "  'самый',\n",
              "  'интересный',\n",
              "  'неприменный',\n",
              "  'искать',\n",
              "  'поверьте',\n",
              "  'найти',\n",
              "  'видеть',\n",
              "  'подобный',\n",
              "  'нарваться',\n",
              "  'бабушка',\n",
              "  'помочий',\n",
              "  'внук',\n",
              "  'покупка',\n",
              "  'квартира',\n",
              "  'бандит',\n",
              "  'разговаривать',\n",
              "  'иначе',\n",
              "  'бабушка',\n",
              "  'милиция',\n",
              "  'выбор',\n",
              "  'шанс',\n",
              "  'подарок',\n",
              "  'выше',\n",
              "  'котрый',\n",
              "  'никто',\n",
              "  'спросить',\n",
              "  'хороший',\n",
              "  'отдать',\n",
              "  'хотяб',\n",
              "  '500',\n",
              "  'благотворительность',\n",
              "  'дабы',\n",
              "  'спугнуть',\n",
              "  'удача'],\n",
              " ['знать',\n",
              "  'делать',\n",
              "  'отдать',\n",
              "  'знать',\n",
              "  'серьёзно',\n",
              "  'отнести',\n",
              "  'полиция',\n",
              "  'найти',\n",
              "  'сделать',\n",
              "  'вариант',\n",
              "  'взять',\n",
              "  'остальной',\n",
              "  'надёжно',\n",
              "  'спрячь',\n",
              "  'пускай',\n",
              "  'лежать',\n",
              "  'брать',\n",
              "  'необходимо',\n",
              "  'подозрение',\n",
              "  'вызывать',\n",
              "  'деньга'],\n",
              " ['местечко',\n",
              "  'находка',\n",
              "  'попадаться',\n",
              "  'найти',\n",
              "  'миллион',\n",
              "  'прежде',\n",
              "  'растеряться',\n",
              "  'пребывать',\n",
              "  'шок',\n",
              "  'очередь',\n",
              "  'думать',\n",
              "  'убедиться',\n",
              "  'настоящий',\n",
              "  'полиция',\n",
              "  'скорее',\n",
              "  'пойти',\n",
              "  'деньга',\n",
              "  'кстати'],\n",
              " ['думать',\n",
              "  'следовать',\n",
              "  'отметить',\n",
              "  'дело',\n",
              "  'следовать',\n",
              "  'поделиться',\n",
              "  'полиция',\n",
              "  'смело',\n",
              "  'отправляться',\n",
              "  'близкий',\n",
              "  'отделение']]"
            ]
          },
          "execution_count": 27,
          "metadata": {},
          "output_type": "execute_result"
        }
      ],
      "source": [
        "sentences[:14]"
      ]
    },
    {
      "cell_type": "markdown",
      "metadata": {
        "id": "2i0XxCAuP5Op"
      },
      "source": [
        "Теперь нам нужно сложить в индекс все вопросы. Используем библиотеку annoy. Проходимся по всем ответам, считаем, что вектор предложения - сумма word2vecов слов, которые входят в него (конечно же усредненная)"
      ]
    },
    {
      "cell_type": "code",
      "execution_count": 10,
      "metadata": {
        "id": "wwW3CG8tP5Op"
      },
      "outputs": [
        {
          "name": "stderr",
          "output_type": "stream",
          "text": [
            "C:\\Users\\vsevolod.volkov\\AppData\\Local\\Temp\\ipykernel_1596\\3324386442.py:7: TqdmDeprecationWarning: This function will be removed in tqdm==5.0.0\n",
            "Please use `tqdm.notebook.tqdm` instead of `tqdm.tqdm_notebook`\n",
            "  for line in tqdm_notebook(f):\n"
          ]
        },
        {
          "data": {
            "application/json": {
              "ascii": false,
              "bar_format": null,
              "colour": null,
              "elapsed": 0.06192970275878906,
              "initial": 0,
              "n": 0,
              "ncols": null,
              "nrows": null,
              "postfix": null,
              "prefix": "",
              "rate": null,
              "total": null,
              "unit": "it",
              "unit_divisor": 1000,
              "unit_scale": false
            },
            "application/vnd.jupyter.widget-view+json": {
              "model_id": "099a3e9fcc73459eb6e610699bbf679a",
              "version_major": 2,
              "version_minor": 0
            },
            "text/plain": [
              "0it [00:00, ?it/s]"
            ]
          },
          "metadata": {},
          "output_type": "display_data"
        },
        {
          "data": {
            "text/plain": [
              "True"
            ]
          },
          "execution_count": 10,
          "metadata": {},
          "output_type": "execute_result"
        }
      ],
      "source": [
        "index = annoy.AnnoyIndex(100 ,'angular')\n",
        "\n",
        "index_map = {}\n",
        "counter = 0\n",
        "\n",
        "with open(f\"{DIR}prepared_answers.txt\", \"r\",encoding = \"utf-8\") as f:\n",
        "    for line in tqdm_notebook(f):\n",
        "        n_w2v = 0\n",
        "        spls = line.split(\"\\t\")\n",
        "        index_map[counter] = spls[1]\n",
        "        question = preprocess_txt(spls[0])\n",
        "        vector = np.zeros(100)\n",
        "        for word in question:\n",
        "            if word in model.wv:\n",
        "                vector += model.wv[word]\n",
        "                n_w2v += 1\n",
        "        if n_w2v > 0:\n",
        "            vector = vector / n_w2v\n",
        "        index.add_item(counter, vector)\n",
        "            \n",
        "        counter += 1\n",
        "\n",
        "index.build(10)\n",
        "index.save('speaker.ann')"
      ]
    },
    {
      "cell_type": "code",
      "execution_count": null,
      "metadata": {},
      "outputs": [],
      "source": [
        "with open(f\"{DIR}prepared_answers1.txt\", \"r\") as f:\n",
        "    for line in tqdm_notebook(f):\n",
        "        n_w2v = 0\n",
        "        spls = line.split(\"\\t\")\n",
        "        print(spls[1])\n",
        "        # index_map[counter] = spls[1]\n",
        "        question = preprocess_txt(spls[0])\n",
        "        print(preprocess_txt(spls[0]))\n",
        "        vector = np.zeros(100)\n",
        "        for word in question:\n",
        "            if word in model.wv:\n",
        "                vector += model.wv[word]\n",
        "                n_w2v += 1\n",
        "        if n_w2v > 0:\n",
        "            vector = vector / n_w2v\n",
        "        print(vector)\n",
        "        # index.add_item(counter, vector)\n"
      ]
    },
    {
      "cell_type": "markdown",
      "metadata": {
        "id": "snKnXkaQP5Oq"
      },
      "source": [
        "Теперь остается реализовать метод, который получит на вход вопрос и найдет ответ к нему!\n",
        "Мы препроцессим вопрос, находим ближайший вопрос и выбираем ответ на ближайший вопрос."
      ]
    },
    {
      "cell_type": "code",
      "execution_count": 32,
      "metadata": {
        "id": "mPSLEsqWP5Or"
      },
      "outputs": [],
      "source": [
        "def find_answer(question):\n",
        "    preprocessed_question = preprocess_txt(question)\n",
        "    n_w2v = 0\n",
        "    vector = np.zeros(100)\n",
        "    for word in preprocessed_question:\n",
        "        if word in model.wv:\n",
        "            vector += model.wv[word]\n",
        "            n_w2v += 1\n",
        "    if n_w2v > 0:\n",
        "        vector = vector / n_w2v\n",
        "    answer_index = index.get_nns_by_vector(vector, 1)\n",
        "    return index_map[answer_index[0]]"
      ]
    },
    {
      "cell_type": "code",
      "execution_count": 31,
      "metadata": {},
      "outputs": [
        {
          "name": "stdout",
          "output_type": "stream",
          "text": [
            "Returns the `n` closest items to vector `vector`.\n",
            "\n",
            ":param search_k: the query will inspect up to `search_k` nodes.\n",
            "`search_k` gives you a run-time tradeoff between better accuracy and speed.\n",
            "`search_k` defaults to `n_trees * n` if not provided.\n",
            "\n",
            ":param include_distances: If `True`, this function will return a\n",
            "2 element tuple of lists. The first list contains the `n` closest items.\n",
            "The second list contains the corresponding distances.\n"
          ]
        }
      ],
      "source": [
        "print(index.get_nns_by_vector.__doc__)"
      ]
    },
    {
      "cell_type": "code",
      "execution_count": 33,
      "metadata": {},
      "outputs": [
        {
          "data": {
            "text/plain": [
              "'И за рулём и на руле, лишь бы спать не мешали..... \\n'"
            ]
          },
          "execution_count": 33,
          "metadata": {},
          "output_type": "execute_result"
        }
      ],
      "source": [
        "find_answer('вопрос тдв отдыхать хорошо любовник советовать?')"
      ]
    },
    {
      "cell_type": "code",
      "execution_count": 19,
      "metadata": {},
      "outputs": [
        {
          "data": {
            "text/plain": [
              "10"
            ]
          },
          "execution_count": 19,
          "metadata": {},
          "output_type": "execute_result"
        }
      ],
      "source": [
        "index.get_n_trees()"
      ]
    },
    {
      "cell_type": "code",
      "execution_count": 20,
      "metadata": {},
      "outputs": [
        {
          "data": {
            "text/plain": [
              "1163342"
            ]
          },
          "execution_count": 20,
          "metadata": {},
          "output_type": "execute_result"
        }
      ],
      "source": [
        "index.get_n_items()"
      ]
    }
  ],
  "metadata": {
    "colab": {
      "collapsed_sections": [],
      "name": "ChatBotPractice.ipynb",
      "provenance": []
    },
    "kernelspec": {
      "display_name": "Python 3.9.12 ('conda14_39')",
      "language": "python",
      "name": "python3"
    },
    "language_info": {
      "codemirror_mode": {
        "name": "ipython",
        "version": 3
      },
      "file_extension": ".py",
      "mimetype": "text/x-python",
      "name": "python",
      "nbconvert_exporter": "python",
      "pygments_lexer": "ipython3",
      "version": "3.9.12"
    },
    "nteract": {
      "version": "0.28.0"
    },
    "vscode": {
      "interpreter": {
        "hash": "35cde011295dad1d7ea1f11575169d87bca099d2160aa371a8eebd42f831077e"
      }
    }
  },
  "nbformat": 4,
  "nbformat_minor": 0
}

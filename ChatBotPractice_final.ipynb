{
  "cells": [
    {
      "cell_type": "code",
      "execution_count": 2,
      "metadata": {},
      "outputs": [],
      "source": [
        "# conda install -c conda-forge python-annoy\n",
        "# conda install -c conda-forge pymorphy2\n",
        "# conda install -c conda-forge stop-words\n",
        "# conda install -c conda-forge gensim\n",
        "# conda install -c conda-forge ipywidgets\n",
        "\n",
        "# pip install chardet для определения кодировщика"
      ]
    },
    {
      "cell_type": "markdown",
      "metadata": {},
      "source": [
        "Учебный проект №14:\n",
        "\n",
        "классификатор «товарный запрос vs. болталка»"
      ]
    },
    {
      "cell_type": "code",
      "execution_count": 1,
      "metadata": {
        "id": "1LJvRpgiP5Oe"
      },
      "outputs": [],
      "source": [
        "# необходимые модули\n",
        "import os\n",
        "import string\n",
        "import annoy\n",
        "\n",
        "from pymorphy2 import MorphAnalyzer\n",
        "from stop_words import get_stop_words\n",
        "from gensim.models import Word2Vec\n",
        "from gensim.models import KeyedVectors\n",
        "\n",
        "import pandas as pd \n",
        "from tqdm import tqdm, notebook\n",
        "import time\n",
        "\n",
        "import numpy as np\n",
        "import pandas as pd\n",
        "import codecs\n",
        "import pickle\n",
        "from sklearn.linear_model import LogisticRegression\n",
        "from sklearn.model_selection import train_test_split\n",
        "from sklearn.metrics import f1_score, accuracy_score\n",
        "\n",
        "# у меня все гигинтские файлы лежат за пределами папки, которая сохраняется в GIT\n",
        "# кто будет пробовать - необходимо уточнить путь к папке с входными файлами\n",
        "DIR=\"..\\\\..\\\\chunk\\\\14\\\\\""
      ]
    },
    {
      "cell_type": "markdown",
      "metadata": {},
      "source": [
        "сначала идут блоки, необходимые для работы готовой модели,\n",
        "а так же идет загрузка сохраненных и готовых к работе частей, и сразу можно запускать запросы.\n",
        "а все подготовительные действия, с помощью которых сохранены части модели, следуют ниже."
      ]
    },
    {
      "cell_type": "markdown",
      "metadata": {},
      "source": [
        "вспомогательный обработчик текстов, включающий функции удаления стопслов, знаков пунктуации и приведения слов к начальной форме\n",
        "для уменьшения размерности корпуса векторов, сопоставляемых набору разных слов"
      ]
    },
    {
      "cell_type": "code",
      "execution_count": 2,
      "metadata": {
        "id": "ky7bZJ9xP5On"
      },
      "outputs": [],
      "source": [
        "# лемматизация требуется и при подготовке, и при использовании готовой модели\n",
        "morpher = MorphAnalyzer()\n",
        "sw = set(get_stop_words(\"ru\"))\n",
        "exclude = set(string.punctuation)\n",
        "\n",
        "def preprocess_txt(line):\n",
        "    spls = \"\".join(i for i in line.strip() if i not in exclude).split()\n",
        "    spls = [morpher.parse(i.lower())[0].normal_form for i in spls]\n",
        "    spls = [i for i in spls if i not in sw and i != \"\"]\n",
        "    return spls"
      ]
    },
    {
      "cell_type": "code",
      "execution_count": 4,
      "metadata": {},
      "outputs": [],
      "source": [
        "# восстановление обученной логистической регрессии, помогающей отличать продуктовые запросы от всех остальных\n",
        "clf = pickle.load(open(f'{DIR}LogisticRegression.sav', 'rb'))"
      ]
    },
    {
      "cell_type": "code",
      "execution_count": 5,
      "metadata": {},
      "outputs": [],
      "source": [
        "# загрузить только минимум для работы.модель word2vec больше не будет дообучатьсяя\n",
        "modelwv = KeyedVectors.load(f'{DIR}word2vec.wordvectors', mmap='r')"
      ]
    },
    {
      "cell_type": "code",
      "execution_count": 6,
      "metadata": {},
      "outputs": [
        {
          "data": {
            "text/plain": [
              "True"
            ]
          },
          "execution_count": 6,
          "metadata": {},
          "output_type": "execute_result"
        }
      ],
      "source": [
        "# загрузить индексы\n",
        "indexProduct = annoy.AnnoyIndex(100 ,'angular')\n",
        "indexProduct.load(f'{DIR}indexProduct.annoy')\n",
        "indexFlood = annoy.AnnoyIndex(100 ,'angular')\n",
        "indexFlood.load(f'{DIR}indexFlood.annoy')"
      ]
    },
    {
      "cell_type": "code",
      "execution_count": 19,
      "metadata": {},
      "outputs": [],
      "source": [
        "# рабочие датасеты для болталки и товаров\n",
        "# ВАЖНО!индексы датасетов нельзя менять, т.к. annoy сохранен на конкретные индексы в двух датасетах\n",
        "# при добавлении/удалении рядов из датасетов потребуется переиндексировать и переобучать модель\n",
        "df=pd.read_csv(f'{DIR}mailruflood.csv',index_col=0)\n",
        "pds=pd.read_csv(f'{DIR}ProductsDS.csv',index_col=0)"
      ]
    },
    {
      "cell_type": "code",
      "execution_count": 8,
      "metadata": {},
      "outputs": [],
      "source": [
        "# вспомогательные функции для вычисления на лету вектора запроса и для классификации запроса\n",
        "def vector_(spls):\n",
        "    n_w2v = 0\n",
        "    # вычисление вектора фразы\n",
        "    vector = np.zeros(100)\n",
        "    notinvoc=[] #слова не в словаре модели\n",
        "    for word in spls:\n",
        "        if word in modelwv:\n",
        "            vector += modelwv[word]\n",
        "            n_w2v += 1\n",
        "        else:\n",
        "            notinvoc.append(word)\n",
        "    if n_w2v > 0:\n",
        "        vector = vector / n_w2v\n",
        "    # index.add_item(counter, vector)\n",
        "    # counter += 1\n",
        "    return vector,notinvoc\n",
        "def choosetarget(userrequest):\n",
        "# запрос юзера - строка слов, разделенных пробелами\n",
        "    line=preprocess_txt(userrequest) #предобработка\n",
        "    # вычислить вектор фразы для некоего пространства, на котором обучена модель\n",
        "    # если попадаются слова не из словаря, то выдать диагностическое сообщение\n",
        "    vector,notinvoc=vector_(line)\n",
        "    if len(notinvoc)>0:print(f'слова из запроса: <{notinvoc}> отсутствуют в словаре модели, поэтому точность результата снижена!')\n",
        "    # определить категорию запроса\n",
        "    y_predict=clf.predict([vector])\n",
        "    if y_predict==0:\n",
        "        pass \n",
        "        # print('запрос из товарной группы')\n",
        "        return 0,vector,'запрос из товарной группы'\n",
        "    else:\n",
        "        pass \n",
        "        # print('запрос не идентифицирован, как товарный, найти ответ из болталки')\n",
        "        return 1,vector,'запрос не идентифицирован, как товарный, найти ответ из болталки'\n",
        "\n"
      ]
    },
    {
      "cell_type": "markdown",
      "metadata": {},
      "source": [
        "вот целевая функция задания:\n",
        "на вход подается строка-запрос\n",
        "на выходе самая подходящая по смыслу из имеющихся в базах данных\n",
        "строка-ответ с учетом классификации запроса на продуктовый/непродуктовый"
      ]
    },
    {
      "cell_type": "code",
      "execution_count": 62,
      "metadata": {},
      "outputs": [],
      "source": [
        "def get_answer(userrequest,moreproduct=1): #userrequest - слова, разделенные пробелами\n",
        "    # выдать ответ на запрос\n",
        "    # сначала классифицировать: продуктовый или нет\n",
        "    # потом найти в датасетах самый подходящий ответ\n",
        "    index=[indexProduct,indexFlood]\n",
        "    ds=[pds,df]\n",
        "    target,vector,info =choosetarget(userrequest)\n",
        "\n",
        "    ind0,dist0=index[0].get_nns_by_vector(vector, moreproduct, search_k=-1, include_distances=True)\n",
        "    ind1,dist1=index[1].get_nns_by_vector(vector, 1, search_k=-1, include_distances=True)\n",
        "\n",
        "    # print(ind0,ind1,dist0,dist1)\n",
        "    #одна только логистическая регрессия иногда ошибается при классификации запроса в сторону товаров,\n",
        "    # поэтому добавлено условие дистанции до ближайшего вектора - это уточняет результат\n",
        "    if target==0 and dist0[0]<dist1[0]: \n",
        "        if moreproduct>1: #Реализован поиск похожих товаров в контентной части бота\n",
        "            for i in ind0:\n",
        "                row=ds[0].loc[i]\n",
        "                print(f\"{row['product_id']} {row['title']} ({info})\")\n",
        "        else: #по умолчанию - поиск одного товара\n",
        "            row=ds[0].loc[ind0[0]]\n",
        "            return f\"{row['product_id']} {row['title']} ({info})\"\n",
        "    else:\n",
        "        row=ds[1].loc[ind1[0]]\n",
        "        answers=[i for i in row['answer'].split('\\t') if len(i)>5]\n",
        "        return f\"{answers[np.random.randint(0, high=len(answers))]} ({info if target==1 else 'логистическая регрессия ошиблась при классификации'})\"\n"
      ]
    },
    {
      "cell_type": "code",
      "execution_count": 60,
      "metadata": {},
      "outputs": [
        {
          "data": {
            "text/plain": [
              "'58e3cfe6132ca50e053f5f82 Юбка детская ORBY (запрос из товарной группы)'"
            ]
          },
          "execution_count": 60,
          "metadata": {},
          "output_type": "execute_result"
        }
      ],
      "source": [
        "# поиск наиближайшего товара\n",
        "get_answer('Юбка ORBY детская')"
      ]
    },
    {
      "cell_type": "code",
      "execution_count": 63,
      "metadata": {},
      "outputs": [
        {
          "name": "stdout",
          "output_type": "stream",
          "text": [
            "58e3cfe6132ca50e053f5f82 Юбка детская ORBY (запрос из товарной группы)\n",
            "5b07bceb22a44943045a0a62 Юбка детская (запрос из товарной группы)\n",
            "5ad469cec15ae36576339ca0 Юбка детская (запрос из товарной группы)\n",
            "5a22a8a3bd36c041b11f0536 Юбка детская (запрос из товарной группы)\n",
            "5b10d2b3ec98553606317117 Рубашка детская (запрос из товарной группы)\n"
          ]
        }
      ],
      "source": [
        "# поиск нескольких похожих товаров\n",
        "get_answer('Юбка ORBY детская',moreproduct=5)"
      ]
    },
    {
      "cell_type": "code",
      "execution_count": 64,
      "metadata": {},
      "outputs": [
        {
          "data": {
            "text/plain": [
              "'что не знаешь что делать? тогда отдай тому кто знает, а если серьезно- можешь отнести их в полицию они найдут что с ними сделать, или другой вариант возьми чуть, а остальные надежно спрячь пускай лежат будешь брать сколько необходимо чтобы подозрений не вызывало не у кого от куда у тебя такие деньги.. (запрос не идентифицирован, как товарный, найти ответ из болталки)'"
            ]
          },
          "execution_count": 64,
          "metadata": {},
          "output_type": "execute_result"
        }
      ],
      "source": [
        "# запрос не из товарной тематики\n",
        "get_answer('что делать, сегодня нашёл 2 миллиона рублей')"
      ]
    },
    {
      "cell_type": "code",
      "execution_count": 65,
      "metadata": {},
      "outputs": [
        {
          "data": {
            "text/plain": [
              "'некоторых очки делают чертовски сексапильными!. (запрос не идентифицирован, как товарный, найти ответ из болталки)'"
            ]
          },
          "execution_count": 65,
          "metadata": {},
          "output_type": "execute_result"
        }
      ],
      "source": [
        "get_answer('парень относиться цветной линза девушка зелёны')"
      ]
    },
    {
      "cell_type": "markdown",
      "metadata": {},
      "source": [
        "далее следуют все подготовительные действия, обработка, индексирование, обучение и т.д."
      ]
    },
    {
      "cell_type": "code",
      "execution_count": 2,
      "metadata": {},
      "outputs": [],
      "source": [
        "# изучить и обработать продуктовую базу:\n",
        "pds=pd.read_csv(f'{DIR}ProductsDataset.csv')\n"
      ]
    },
    {
      "cell_type": "code",
      "execution_count": 4,
      "metadata": {},
      "outputs": [
        {
          "name": "stdout",
          "output_type": "stream",
          "text": [
            "<class 'pandas.core.frame.DataFrame'>\n",
            "RangeIndex: 35548 entries, 0 to 35547\n",
            "Data columns (total 7 columns):\n",
            " #   Column          Non-Null Count  Dtype  \n",
            "---  ------          --------------  -----  \n",
            " 0   title           35548 non-null  object \n",
            " 1   descrirption    33537 non-null  object \n",
            " 2   product_id      35536 non-null  object \n",
            " 3   category_id     35536 non-null  float64\n",
            " 4   subcategory_id  35536 non-null  object \n",
            " 5   properties      35536 non-null  object \n",
            " 6   image_links     35533 non-null  object \n",
            "dtypes: float64(1), object(6)\n",
            "memory usage: 1.9+ MB\n"
          ]
        }
      ],
      "source": [
        "pds.info()"
      ]
    },
    {
      "cell_type": "code",
      "execution_count": 6,
      "metadata": {},
      "outputs": [
        {
          "data": {
            "text/html": [
              "<div>\n",
              "<style scoped>\n",
              "    .dataframe tbody tr th:only-of-type {\n",
              "        vertical-align: middle;\n",
              "    }\n",
              "\n",
              "    .dataframe tbody tr th {\n",
              "        vertical-align: top;\n",
              "    }\n",
              "\n",
              "    .dataframe thead th {\n",
              "        text-align: right;\n",
              "    }\n",
              "</style>\n",
              "<table border=\"1\" class=\"dataframe\">\n",
              "  <thead>\n",
              "    <tr style=\"text-align: right;\">\n",
              "      <th></th>\n",
              "      <th>title</th>\n",
              "      <th>descrirption</th>\n",
              "      <th>product_id</th>\n",
              "      <th>category_id</th>\n",
              "      <th>subcategory_id</th>\n",
              "      <th>properties</th>\n",
              "      <th>image_links</th>\n",
              "    </tr>\n",
              "  </thead>\n",
              "  <tbody>\n",
              "    <tr>\n",
              "      <th>0</th>\n",
              "      <td>Юбка детская ORBY</td>\n",
              "      <td>Новая, не носили ни разу. В реале красивей чем...</td>\n",
              "      <td>58e3cfe6132ca50e053f5f82</td>\n",
              "      <td>22.0</td>\n",
              "      <td>2211</td>\n",
              "      <td>{'detskie_razmer_rost': '81-86 (1,5 года)'}</td>\n",
              "      <td>http://cache3.youla.io/files/images/360_360/58...</td>\n",
              "    </tr>\n",
              "    <tr>\n",
              "      <th>1</th>\n",
              "      <td>Ботильоны</td>\n",
              "      <td>Новые,привезены из Чехии ,указан размер 40,но ...</td>\n",
              "      <td>5667531b2b7f8d127d838c34</td>\n",
              "      <td>9.0</td>\n",
              "      <td>902</td>\n",
              "      <td>{'zhenskaya_odezhda_tzvet': 'Зеленый', 'visota...</td>\n",
              "      <td>http://cache3.youla.io/files/images/360_360/5b...</td>\n",
              "    </tr>\n",
              "    <tr>\n",
              "      <th>2</th>\n",
              "      <td>Брюки</td>\n",
              "      <td>Размер 40-42. Брюки почти новые - не знаю как ...</td>\n",
              "      <td>59534826aaab284cba337e06</td>\n",
              "      <td>9.0</td>\n",
              "      <td>906</td>\n",
              "      <td>{'zhenskaya_odezhda_dzhinsy_bryuki_tip': 'Брюк...</td>\n",
              "      <td>http://cache3.youla.io/files/images/360_360/59...</td>\n",
              "    </tr>\n",
              "    <tr>\n",
              "      <th>3</th>\n",
              "      <td>Продам детские шапки</td>\n",
              "      <td>Продам шапки,кажда 200р.Розовая и белая проданны.</td>\n",
              "      <td>57de544096ad842e26de8027</td>\n",
              "      <td>22.0</td>\n",
              "      <td>2217</td>\n",
              "      <td>{'detskie_pol': 'Девочкам', 'detskaya_odezhda_...</td>\n",
              "      <td>http://cache3.youla.io/files/images/360_360/57...</td>\n",
              "    </tr>\n",
              "    <tr>\n",
              "      <th>4</th>\n",
              "      <td>Блузка</td>\n",
              "      <td>Темно-синяя, 42 размер,состояние отличное,как ...</td>\n",
              "      <td>5ad4d2626c86cb168d212022</td>\n",
              "      <td>9.0</td>\n",
              "      <td>907</td>\n",
              "      <td>{'zhenskaya_odezhda_tzvet': 'Синий', 'zhenskay...</td>\n",
              "      <td>http://cache3.youla.io/files/images/360_360/5a...</td>\n",
              "    </tr>\n",
              "  </tbody>\n",
              "</table>\n",
              "</div>"
            ],
            "text/plain": [
              "                  title                                       descrirption  \\\n",
              "0     Юбка детская ORBY  Новая, не носили ни разу. В реале красивей чем...   \n",
              "1             Ботильоны  Новые,привезены из Чехии ,указан размер 40,но ...   \n",
              "2                 Брюки  Размер 40-42. Брюки почти новые - не знаю как ...   \n",
              "3  Продам детские шапки  Продам шапки,кажда 200р.Розовая и белая проданны.   \n",
              "4                Блузка  Темно-синяя, 42 размер,состояние отличное,как ...   \n",
              "\n",
              "                 product_id  category_id subcategory_id  \\\n",
              "0  58e3cfe6132ca50e053f5f82         22.0           2211   \n",
              "1  5667531b2b7f8d127d838c34          9.0            902   \n",
              "2  59534826aaab284cba337e06          9.0            906   \n",
              "3  57de544096ad842e26de8027         22.0           2217   \n",
              "4  5ad4d2626c86cb168d212022          9.0            907   \n",
              "\n",
              "                                          properties  \\\n",
              "0        {'detskie_razmer_rost': '81-86 (1,5 года)'}   \n",
              "1  {'zhenskaya_odezhda_tzvet': 'Зеленый', 'visota...   \n",
              "2  {'zhenskaya_odezhda_dzhinsy_bryuki_tip': 'Брюк...   \n",
              "3  {'detskie_pol': 'Девочкам', 'detskaya_odezhda_...   \n",
              "4  {'zhenskaya_odezhda_tzvet': 'Синий', 'zhenskay...   \n",
              "\n",
              "                                         image_links  \n",
              "0  http://cache3.youla.io/files/images/360_360/58...  \n",
              "1  http://cache3.youla.io/files/images/360_360/5b...  \n",
              "2  http://cache3.youla.io/files/images/360_360/59...  \n",
              "3  http://cache3.youla.io/files/images/360_360/57...  \n",
              "4  http://cache3.youla.io/files/images/360_360/5a...  "
            ]
          },
          "execution_count": 6,
          "metadata": {},
          "output_type": "execute_result"
        }
      ],
      "source": [
        "# pds[pds.category_id==22].head(5)\n",
        "pds.head(5)"
      ]
    },
    {
      "cell_type": "markdown",
      "metadata": {
        "id": "DrdA0HmPP5Oj"
      },
      "source": [
        "Предобработаем ответы mail.ru из файла: выбрать только вопросы и поместить в датасет.\n",
        "эти вопросы предполагается использовать для обучения логистической регрессии - как тексты, не связанные с товарными запросами(хотя не исключено, что в запросах мейл такие могут присутствовать)"
      ]
    },
    {
      "cell_type": "code",
      "execution_count": 21,
      "metadata": {
        "id": "Ul4dgvpnP5Ol"
      },
      "outputs": [
        {
          "name": "stderr",
          "output_type": "stream",
          "text": [
            " 96%|█████████▌| 34052/35548 [1:00:16<02:38,  9.42it/s]\n"
          ]
        },
        {
          "data": {
            "text/html": [
              "<div>\n",
              "<style scoped>\n",
              "    .dataframe tbody tr th:only-of-type {\n",
              "        vertical-align: middle;\n",
              "    }\n",
              "\n",
              "    .dataframe tbody tr th {\n",
              "        vertical-align: top;\n",
              "    }\n",
              "\n",
              "    .dataframe thead th {\n",
              "        text-align: right;\n",
              "    }\n",
              "</style>\n",
              "<table border=\"1\" class=\"dataframe\">\n",
              "  <thead>\n",
              "    <tr style=\"text-align: right;\">\n",
              "      <th></th>\n",
              "      <th>question</th>\n",
              "      <th>answer</th>\n",
              "    </tr>\n",
              "  </thead>\n",
              "  <tbody>\n",
              "    <tr>\n",
              "      <th>0</th>\n",
              "      <td></td>\n",
              "      <td></td>\n",
              "    </tr>\n",
              "    <tr>\n",
              "      <th>1</th>\n",
              "      <td>вопрос о тдв)) давно и хорошо отдыхаем)) лично...</td>\n",
              "      <td>хомячка....\\tмужика, йопаря, собачку и 50 коше...</td>\n",
              "    </tr>\n",
              "    <tr>\n",
              "      <th>2</th>\n",
              "      <td>как парни относятся к цветным линзам? если у д...</td>\n",
              "      <td>меня вобще прикалывает эта тема :).\\tкогда это...</td>\n",
              "    </tr>\n",
              "    <tr>\n",
              "      <th>3</th>\n",
              "      <td>что делать, сегодня нашёл 2 миллиона рублей? .</td>\n",
              "      <td>если это \"счастье \" действительно на вас свали...</td>\n",
              "    </tr>\n",
              "    <tr>\n",
              "      <th>4</th>\n",
              "      <td>эбу в двенашке называется итэлма что за эбу? .</td>\n",
              "      <td>эбу — электронный блок управления двигателем а...</td>\n",
              "    </tr>\n",
              "    <tr>\n",
              "      <th>...</th>\n",
              "      <td>...</td>\n",
              "      <td>...</td>\n",
              "    </tr>\n",
              "    <tr>\n",
              "      <th>96</th>\n",
              "      <td>посоветуйте спавн меню к сталкер кал оф мизери...</td>\n",
              "      <td>спавн меню уже встроено. делаешь как на картин...</td>\n",
              "    </tr>\n",
              "    <tr>\n",
              "      <th>97</th>\n",
              "      <td>а как правильно делать минет? .</td>\n",
              "      <td>галина радионова всему тебя надо учить по два ...</td>\n",
              "    </tr>\n",
              "    <tr>\n",
              "      <th>98</th>\n",
              "      <td>как скрыть страницу вкатакти .</td>\n",
              "      <td>мои настройки - приватность.\\tникак.\\t</td>\n",
              "    </tr>\n",
              "    <tr>\n",
              "      <th>99</th>\n",
              "      <td>санаторий \"петродворец\" (бывшие царские конюшн...</td>\n",
              "      <td>суки поганые себе кормушку устроят.....\\tотель...</td>\n",
              "    </tr>\n",
              "    <tr>\n",
              "      <th>100</th>\n",
              "      <td>авто торговля на форексе! какой самый отличный...</td>\n",
              "      <td>бесплатные советники не предназначены для торг...</td>\n",
              "    </tr>\n",
              "  </tbody>\n",
              "</table>\n",
              "<p>101 rows × 2 columns</p>\n",
              "</div>"
            ],
            "text/plain": [
              "                                              question  \\\n",
              "0                                                        \n",
              "1    вопрос о тдв)) давно и хорошо отдыхаем)) лично...   \n",
              "2    как парни относятся к цветным линзам? если у д...   \n",
              "3       что делать, сегодня нашёл 2 миллиона рублей? .   \n",
              "4       эбу в двенашке называется итэлма что за эбу? .   \n",
              "..                                                 ...   \n",
              "96   посоветуйте спавн меню к сталкер кал оф мизери...   \n",
              "97                     а как правильно делать минет? .   \n",
              "98                      как скрыть страницу вкатакти .   \n",
              "99   санаторий \"петродворец\" (бывшие царские конюшн...   \n",
              "100  авто торговля на форексе! какой самый отличный...   \n",
              "\n",
              "                                                answer  \n",
              "0                                                       \n",
              "1    хомячка....\\tмужика, йопаря, собачку и 50 коше...  \n",
              "2    меня вобще прикалывает эта тема :).\\tкогда это...  \n",
              "3    если это \"счастье \" действительно на вас свали...  \n",
              "4    эбу — электронный блок управления двигателем а...  \n",
              "..                                                 ...  \n",
              "96   спавн меню уже встроено. делаешь как на картин...  \n",
              "97   галина радионова всему тебя надо учить по два ...  \n",
              "98              мои настройки - приватность.\\tникак.\\t  \n",
              "99   суки поганые себе кормушку устроят.....\\tотель...  \n",
              "100  бесплатные советники не предназначены для торг...  \n",
              "\n",
              "[101 rows x 2 columns]"
            ]
          },
          "metadata": {},
          "output_type": "display_data"
        },
        {
          "name": "stderr",
          "output_type": "stream",
          "text": []
        }
      ],
      "source": [
        "# %%time\n",
        "# from tqdm.notebook import tqdm\n",
        "# tqdm.pandas()\n",
        "\n",
        "from tqdm import tqdm, notebook\n",
        "import time\n",
        "df=pd.DataFrame(columns=['question','answer'])\n",
        "\n",
        "#Мы идем по всем записям, просматриваем содержимое\n",
        "# и сразу после знака --- находим вопрос\n",
        "with open(file_name:=f\"{DIR}Otvety.txt\", \"r\",buffering=200000000,encoding='utf-8') as fin:\n",
        "    t = tqdm(total=os.stat(file_name).st_size) # инициализировать прогресбар размером файла\n",
        "    start_time = time.time() #использовать интервал для настройки частоты отображения прогресбара\n",
        "    question = False\n",
        "    written = False\n",
        "    lastpos=0\n",
        "    tmpcnt=0\n",
        "    while line:=fin.readline():\n",
        "        if time.time()-start_time>2:\n",
        "            start_time = time.time()\n",
        "            t.update((fin.tell()-lastpos,lastpos:=fin.tell())[0])\n",
        "        if tmpcnt>100: break\n",
        "        if line.startswith(\"---\"):#начало блока вопрос/несколько ответов\n",
        "            tmpcnt+=1\n",
        "            written = False\n",
        "            question = False\n",
        "            continue\n",
        "        line=line.replace(\"\\t\", \" \").replace(\"<br>\", \"\").strip().lower()\n",
        "        if question:\n",
        "            # сохранить ответ в текущий(последний) ряд\n",
        "            df.iloc[-1]['answer']=df.iloc[-1]['answer']+line +'\\t'\n",
        "            written = True\n",
        "            continue\n",
        "        if not question:\n",
        "            # сохранить вопрос\n",
        "            question = True\n",
        "            df=pd.concat([df,pd.DataFrame({'question':[line],'answer':['']})],ignore_index=True)\n",
        "            continue\n",
        "    t.update((fin.tell()-lastpos,lastpos:=fin.tell())[0])\n",
        "\n",
        "display(df)\n",
        "df.to_csv(f'{DIR}Otvety.csv',index=False)"
      ]
    },
    {
      "cell_type": "code",
      "execution_count": null,
      "metadata": {},
      "outputs": [],
      "source": [
        "df=pd.read_csv(f'{DIR}Otvety.csv')\n",
        "df.dropna(inplace=True)\n",
        "print(df.iloc[3]['answer'].split('\\t')) #просто посмотреть, как получилось"
      ]
    },
    {
      "cell_type": "markdown",
      "metadata": {
        "id": "Hw5tHi8bP5Om"
      },
      "source": [
        "Теперь нам нужно предобработать текст, чтобы обучить word2vec и получить эмбеддинги. Удаляем знаки препинания и делаем лемматизацию"
      ]
    },
    {
      "cell_type": "code",
      "execution_count": 45,
      "metadata": {},
      "outputs": [],
      "source": [
        "\n",
        "# эта переменная используется для входных данных Word2Vec\n",
        "sentences=None\n",
        "\n",
        "def prep(ds,col):\n",
        "    # обработака одного столбца датасета функционалом из \"preprocess_txt\"\n",
        "    # и формирование дополнительного столбца с обработанным текстом\n",
        "    def applypreprocess(x):\n",
        "        # обработка отдельного ряда, отображение прогресбара степени обработки всего датасета\n",
        "        nonlocal tmpcnt,start_time,lastcnt,sentences,t\n",
        "        tmpcnt+=1\n",
        "        if time.time()-start_time>2:\n",
        "            start_time = time.time()\n",
        "            #так было удобно сделать в одной строке\n",
        "            t.update((tmpcnt-lastcnt,lastcnt:=tmpcnt)[0])\n",
        "        # print(row['title'])\n",
        "        spls = preprocess_txt(x)\n",
        "        sentences.append(spls)\n",
        "        return ' '.join(spls)\n",
        "    #преобразовать текст столбца col посредством preprocess_txt (исключить пунктуацию, привести к нормальной форме слова) \n",
        "    sentences = [] #альтернативный выход функции (дублирует результаты сохранения в дополнительный столбец)\n",
        "    t = tqdm(total=len(ds.index)) # инициализировать прогресбар \n",
        "    start_time = time.time() #использовать интервал для настройки частоты отображения прогресбара\n",
        "    tmpcnt=0\n",
        "    lastcnt=0\n",
        "    ds[f'{col}_prep']=ds.iloc[:][col].apply(applypreprocess)\n",
        "    return sentences #здесь это не глобальная\n"
      ]
    },
    {
      "cell_type": "code",
      "execution_count": null,
      "metadata": {},
      "outputs": [],
      "source": [
        "# предобработать столбец title в таблице товаров\n",
        "sentences = prep(pds,'title')\n",
        "# сохранить\n",
        "pds.to_csv(f'{DIR}ProductsDataset_prep.csv')\n"
      ]
    },
    {
      "cell_type": "code",
      "execution_count": 16,
      "metadata": {
        "id": "7ZiMlSWbP5Oo"
      },
      "outputs": [],
      "source": [
        "# Обучим модель word2vec на заголовках товарной таблицы\n",
        "sentences = [i for i in sentences] # в товарах встречается и одно слово, не пропускать if len(i) > 2\n",
        "model = Word2Vec(sentences=sentences, vector_size=100, min_count=1, window=5)\n",
        "model.save(\"w2v_model_prod\")\n",
        "#загрузить полуобученную модель, (если она сейчас не в памяти)\n",
        "model = Word2Vec.load(\"w2v_model_prod\")"
      ]
    },
    {
      "cell_type": "code",
      "execution_count": 51,
      "metadata": {},
      "outputs": [
        {
          "name": "stderr",
          "output_type": "stream",
          "text": [
            "  0%|          | 0/1163422 [1:07:06<?, ?it/s]0, 146.57it/s]\n",
            "100%|█████████▉| 1163089/1163330 [2:17:58<00:01, 140.50it/s] \n"
          ]
        }
      ],
      "source": [
        "# предобработать столбец question в таблице -болталке мейлру\n",
        "sentences = prep(df,'question')\n"
      ]
    },
    {
      "cell_type": "code",
      "execution_count": 54,
      "metadata": {},
      "outputs": [],
      "source": [
        "# сохранить\n",
        "pds.to_csv(f'{DIR}Otvety_prep.csv',index=False)\n",
        "# sentences можно получить из датасета. но он так же готов и после prep(dxxx,'xxxxx')\n",
        "sentences = pds.iloc[:]['title_prep'].tolist()\n",
        "sentences=[i.split() for i in sentences]\n"
      ]
    },
    {
      "cell_type": "code",
      "execution_count": 31,
      "metadata": {},
      "outputs": [
        {
          "data": {
            "text/plain": [
              "[['вопрос', 'тдв', 'отдыхать', 'лично', 'советовать', 'завести'],\n",
              " ['парень',\n",
              "  'относиться',\n",
              "  'цветной',\n",
              "  'линза',\n",
              "  'девушка',\n",
              "  'зелёный',\n",
              "  'глаз',\n",
              "  'голубой'],\n",
              " ['делать', 'найти', '2', 'миллион', 'рубль'],\n",
              " ['эбу', 'двенашка', 'называться', 'итэлма', 'эбу'],\n",
              " ['академия',\n",
              "  'вампир',\n",
              "  'даный',\n",
              "  'момент',\n",
              "  'часть',\n",
              "  'книга',\n",
              "  'академия',\n",
              "  'вампир'],\n",
              " ['защититься', 'энергетический', 'вампир'],\n",
              " ['выращивать',\n",
              "  'магнолия',\n",
              "  'открытый',\n",
              "  'грунт',\n",
              "  'средний',\n",
              "  'полоса',\n",
              "  'россия',\n",
              "  'вид',\n",
              "  'сорт',\n",
              "  'зимовать',\n",
              "  'укрытие',\n",
              "  'укрытие',\n",
              "  'цвести',\n",
              "  'магнолия',\n",
              "  'каков',\n",
              "  'размер',\n",
              "  'дерево',\n",
              "  'особенность',\n",
              "  'выращивание',\n",
              "  'указывать',\n",
              "  'ответ',\n",
              "  'регион',\n",
              "  'прикреплять',\n",
              "  'фото'],\n",
              " ['отформатировать',\n",
              "  'диск',\n",
              "  'c',\n",
              "  'дос',\n",
              "  'формат',\n",
              "  'ntfs',\n",
              "  'команда',\n",
              "  'fdisk',\n",
              "  'жёсткий',\n",
              "  'диск',\n",
              "  'найти'],\n",
              " ['относиться',\n",
              "  'парикмахер',\n",
              "  'работать',\n",
              "  'дом',\n",
              "  'помешать',\n",
              "  'например',\n",
              "  'присутствие',\n",
              "  'дом',\n",
              "  'ребёнок',\n",
              "  'муж',\n",
              "  'нормально',\n",
              "  'мыть',\n",
              "  'голова',\n",
              "  'ванная',\n",
              "  'рак'],\n",
              " ['кошка', 'олег', 'видеть'],\n",
              " ['пьяный', 'везти', 'большой', 'трезвый'],\n",
              " ['остановить', 'выпадение', 'волос', 'беременность'],\n",
              " ['программа',\n",
              "  'измерение',\n",
              "  'температура',\n",
              "  'процессор',\n",
              "  'компьютер',\n",
              "  'знать',\n",
              "  'существовать',\n",
              "  'прога',\n",
              "  'незнать',\n",
              "  'достать',\n",
              "  'помочь'],\n",
              " ['существенный', 'отличие', 'ipad2', 'ipad3', '3g', 'память'],\n",
              " ['кадровик',\n",
              "  'подсказать',\n",
              "  'порядок',\n",
              "  'хранение',\n",
              "  'командировочный',\n",
              "  'документ',\n",
              "  'стоить',\n",
              "  'приказ',\n",
              "  'командировка',\n",
              "  'хранить',\n",
              "  'вместе',\n",
              "  'др',\n",
              "  'приказ',\n",
              "  'удоствоверение',\n",
              "  'приказ',\n",
              "  'храниться',\n",
              "  'вместеоформление',\n",
              "  'интересовать'],\n",
              " ['израэль', 'георг'],\n",
              " ['медный', 'литьё', 'медный', 'литьё'],\n",
              " ['растение',\n",
              "  'семейство',\n",
              "  'луковый',\n",
              "  'приходиться',\n",
              "  'использовать',\n",
              "  'лечение',\n",
              "  'простудный',\n",
              "  'заболевание'],\n",
              " ['мужчина', 'должный', 'ухаживать', 'девушка'],\n",
              " ['урок',\n",
              "  'английский',\n",
              "  'язык',\n",
              "  'помочь',\n",
              "  'найти',\n",
              "  'текст',\n",
              "  'тема',\n",
              "  'british',\n",
              "  'lifestyle',\n",
              "  'завтра',\n",
              "  'урок',\n",
              "  '8',\n",
              "  'класс'],\n",
              " ['чёрный', 'пехота', 'вов'],\n",
              " ['аэропорт',\n",
              "  'цюрих',\n",
              "  'ясность',\n",
              "  'пересадка',\n",
              "  'нужный',\n",
              "  'карта',\n",
              "  'аэропорт',\n",
              "  'цюрих'],\n",
              " ['хороший', 'паркетный', 'доска', 'ламинат', 'недостаток', 'преимущество'],\n",
              " ['крыса',\n",
              "  'колоть',\n",
              "  'внутримышечный',\n",
              "  'препарат',\n",
              "  'крыса',\n",
              "  'мышца',\n",
              "  'колоть',\n",
              "  'внутримышечный',\n",
              "  'вообще',\n",
              "  'возможно',\n",
              "  'сделать',\n",
              "  'ветеринар'],\n",
              " ['навигационный', 'программа', 'выбрать'],\n",
              " ['избавиться',\n",
              "  'мелкий',\n",
              "  'мураш',\n",
              "  'откуда',\n",
              "  'появиться',\n",
              "  'мелкий',\n",
              "  'мураш',\n",
              "  'избавитьсямазать',\n",
              "  'уксус',\n",
              "  'стать',\n",
              "  'маленький',\n",
              "  'уксус',\n",
              "  'брать',\n",
              "  'подсказать',\n",
              "  'предпринять'],\n",
              " ['помочь',\n",
              "  'характеристика',\n",
              "  'бить',\n",
              "  'разказ',\n",
              "  'джек',\n",
              "  'лондон',\n",
              "  'любовь',\n",
              "  'плиз'],\n",
              " ['связать', 'дубликат', 'птс'],\n",
              " ['джонс', 'проиграть', 'лебедев', '25', '04', '2014', 'прогноз'],\n",
              " ['укус', 'вшить', 'просить', 'отвечать', 'разбираться'],\n",
              " ['соль',\n",
              "  'просыпать',\n",
              "  'говорить',\n",
              "  'скандал',\n",
              "  'пол',\n",
              "  'кил',\n",
              "  'сахар',\n",
              "  'просыпать',\n",
              "  'готовиться'],\n",
              " ['золото', 'позолота', 'нуждается', 'золотарь'],\n",
              " ['редиска', 'гнать', 'самогон'],\n",
              " ['вычислить',\n",
              "  'кг',\n",
              "  '78',\n",
              "  'серный',\n",
              "  'кислота',\n",
              "  'прореагировать',\n",
              "  '1344ть',\n",
              "  'аммиак',\n",
              "  'получение',\n",
              "  'сульфат',\n",
              "  'аммомия'],\n",
              " ['микелскаон', 'казаться', 'сю', 'играть', 'звать'],\n",
              " ['друг',\n",
              "  'подсказать',\n",
              "  'выбор',\n",
              "  'большой',\n",
              "  'ребята',\n",
              "  'тема',\n",
              "  'спросить',\n",
              "  'вести',\n",
              "  'весна',\n",
              "  'купить',\n",
              "  'большой',\n",
              "  'велосипед',\n",
              "  'женский',\n",
              "  'лёгкий',\n",
              "  'подье',\n",
              "  'лифт',\n",
              "  'лестница',\n",
              "  'удобный',\n",
              "  'большой',\n",
              "  'видеть',\n",
              "  'знать',\n",
              "  'марка',\n",
              "  'модель',\n",
              "  'огромный',\n",
              "  'огромный',\n",
              "  'упад',\n",
              "  'фига',\n",
              "  'посоветовать',\n",
              "  'нибыть',\n",
              "  'хороший',\n",
              "  'модель',\n",
              "  'предел',\n",
              "  '10',\n",
              "  '00012',\n",
              "  '000',\n",
              "  'тыс',\n",
              "  'руб'],\n",
              " ['писать',\n",
              "  'песня',\n",
              "  'слушать',\n",
              "  'создать',\n",
              "  'свой',\n",
              "  'группа',\n",
              "  'писать',\n",
              "  'песня',\n",
              "  'разный',\n",
              "  'песня',\n",
              "  'писать',\n",
              "  'слушать'],\n",
              " ['гадание', 'таро', 'дать', 'знать', 'мужчина'],\n",
              " ['вообще',\n",
              "  'любить',\n",
              "  'нищий',\n",
              "  'мужчина',\n",
              "  'мужик',\n",
              "  'угостить',\n",
              "  'девушка',\n",
              "  'кофе',\n",
              "  'сводить',\n",
              "  'кино',\n",
              "  'говорить',\n",
              "  'дорогой',\n",
              "  'подарок',\n",
              "  'мужчина',\n",
              "  'приглашать',\n",
              "  'девушка',\n",
              "  'должный',\n",
              "  'обеспечить',\n",
              "  'интересный',\n",
              "  'программа',\n",
              "  'питание',\n",
              "  'интересный',\n",
              "  'личность',\n",
              "  'погода',\n",
              "  'позволять',\n",
              "  'погулять',\n",
              "  'думать'],\n",
              " ['смотреть', 'фильмсумерки', 'клёвый', 'фильм'],\n",
              " ['ромшка',\n",
              "  'плохо',\n",
              "  'ромшка',\n",
              "  'уходить',\n",
              "  'пить',\n",
              "  'очаковский',\n",
              "  'квас',\n",
              "  'удачный',\n",
              "  'хороший',\n",
              "  'настроение',\n",
              "  'отравиться',\n",
              "  'очаковский',\n",
              "  'квас',\n",
              "  'умирать',\n",
              "  'ходить',\n",
              "  'пить',\n",
              "  'очаковский',\n",
              "  'квас',\n",
              "  'люблюмиро',\n",
              "  'добро'],\n",
              " ['дать',\n",
              "  '5',\n",
              "  'строка',\n",
              "  'любой',\n",
              "  'текст',\n",
              "  'стих',\n",
              "  'нужный',\n",
              "  'текст',\n",
              "  'легко',\n",
              "  'выучить',\n",
              "  'помочь',\n",
              "  '5строка'],\n",
              " ['история', 'создание', 'рассказ', 'крыжовник'],\n",
              " ['скорость',\n",
              "  'катер',\n",
              "  'течение',\n",
              "  'река',\n",
              "  '21',\n",
              "  'кмч',\n",
              "  'двигаться',\n",
              "  'течение',\n",
              "  'катер',\n",
              "  'преодалевать',\n",
              "  '60',\n",
              "  'км',\n",
              "  '4',\n",
              "  'час',\n",
              "  'найти',\n",
              "  'скорость',\n",
              "  'течение',\n",
              "  'река'],\n",
              " ['найти',\n",
              "  '5',\n",
              "  'отличие',\n",
              "  'картинка',\n",
              "  'использовать',\n",
              "  'thre',\n",
              "  'isthere',\n",
              "  'are',\n",
              "  'условие',\n",
              "  'найти',\n",
              "  '5',\n",
              "  'отличие',\n",
              "  'start',\n",
              "  'your',\n",
              "  'report',\n",
              "  'there',\n",
              "  'are',\n",
              "  'two',\n",
              "  'words',\n",
              "  'on',\n",
              "  'the',\n",
              "  'blackboard',\n",
              "  'in',\n",
              "  'picture',\n",
              "  '1',\n",
              "  'there',\n",
              "  'arent',\n",
              "  'any',\n",
              "  'words',\n",
              "  'on',\n",
              "  'the',\n",
              "  'blackboard',\n",
              "  'in',\n",
              "  'picture',\n",
              "  '1',\n",
              "  'проверить',\n",
              "  'предложение',\n",
              "  'написать',\n",
              "  '1',\n",
              "  'there',\n",
              "  'is',\n",
              "  'one',\n",
              "  'person',\n",
              "  'on',\n",
              "  'the',\n",
              "  'second',\n",
              "  'row',\n",
              "  'in',\n",
              "  'picture',\n",
              "  '1',\n",
              "  'there',\n",
              "  'isnt',\n",
              "  'one',\n",
              "  'person',\n",
              "  'on',\n",
              "  'the',\n",
              "  'second',\n",
              "  'row',\n",
              "  'in',\n",
              "  'piscture',\n",
              "  '2',\n",
              "  '2',\n",
              "  'there',\n",
              "  'are',\n",
              "  'two',\n",
              "  'pictures',\n",
              "  'on',\n",
              "  'the',\n",
              "  'right',\n",
              "  'wall',\n",
              "  'in',\n",
              "  'picture',\n",
              "  '1',\n",
              "  'there',\n",
              "  'arent',\n",
              "  'any',\n",
              "  'pictures',\n",
              "  'on',\n",
              "  'the',\n",
              "  'right',\n",
              "  'wall',\n",
              "  'in',\n",
              "  'picture',\n",
              "  '2',\n",
              "  '3',\n",
              "  'there',\n",
              "  'is',\n",
              "  'a',\n",
              "  'cat',\n",
              "  'under',\n",
              "  'the',\n",
              "  'table',\n",
              "  'on',\n",
              "  'the',\n",
              "  'second',\n",
              "  'row',\n",
              "  'in',\n",
              "  'picture',\n",
              "  '2',\n",
              "  'there',\n",
              "  'isnt',\n",
              "  'any',\n",
              "  'cats',\n",
              "  'under',\n",
              "  'the',\n",
              "  'table',\n",
              "  'on',\n",
              "  'the',\n",
              "  'second',\n",
              "  'row',\n",
              "  'in',\n",
              "  'picture',\n",
              "  '1',\n",
              "  '4',\n",
              "  'there',\n",
              "  'is',\n",
              "  'a',\n",
              "  'painted',\n",
              "  'picture',\n",
              "  'on',\n",
              "  'the',\n",
              "  'left',\n",
              "  'row',\n",
              "  'in',\n",
              "  'picture',\n",
              "  '1',\n",
              "  'there',\n",
              "  'isnt',\n",
              "  'a',\n",
              "  'painted',\n",
              "  'picture',\n",
              "  'on',\n",
              "  'the',\n",
              "  'left',\n",
              "  'row',\n",
              "  'in',\n",
              "  'picture',\n",
              "  '2'],\n",
              " ['узнать', 'любовь', 'поэзия', 'пушкин', 'пожать'],\n",
              " ['упасть',\n",
              "  'стрелка',\n",
              "  'панель',\n",
              "  'здравствуйте',\n",
              "  'момент',\n",
              "  'упасть',\n",
              "  'стрелка',\n",
              "  'приборный',\n",
              "  'панель',\n",
              "  'причём',\n",
              "  'сигнальный',\n",
              "  'лампа',\n",
              "  'ближний',\n",
              "  'свет',\n",
              "  'поворотник',\n",
              "  'показывать',\n",
              "  'машина',\n",
              "  'ехать',\n",
              "  'ехать',\n",
              "  'либо',\n",
              "  'замечание',\n",
              "  'передёргивание',\n",
              "  'тумблер',\n",
              "  'габаритближнийгабарит',\n",
              "  'стрелка',\n",
              "  'приходить',\n",
              "  'нормальный',\n",
              "  'состояние',\n",
              "  'езда',\n",
              "  'ближний',\n",
              "  'падать',\n",
              "  'вновь',\n",
              "  'включить',\n",
              "  'габарит',\n",
              "  'происходит',\n",
              "  'ваз21120',\n",
              "  'инжектор',\n",
              "  'помочь',\n",
              "  'разобраться',\n",
              "  'сталкиваться'],\n",
              " ['играть',\n",
              "  'сеновал',\n",
              "  'мужчина',\n",
              "  'нету',\n",
              "  'красивый',\n",
              "  'слово',\n",
              "  'говорить',\n",
              "  'никто',\n",
              "  'уходить'],\n",
              " ['подсказать', 'лекарство', 'ответный', 'любовь'],\n",
              " ['прийти', 'смс', 'переслать', '10', 'друг', 'столько'],\n",
              " ['попытка',\n",
              "  'сделать',\n",
              "  'реверс',\n",
              "  'болгарка',\n",
              "  'путём',\n",
              "  'вмешательство',\n",
              "  'возникать',\n",
              "  'проблема',\n",
              "  'внутри',\n",
              "  'смена',\n",
              "  'полярность',\n",
              "  'обмотка',\n",
              "  'рисунок',\n",
              "  'двигатель',\n",
              "  'начинать',\n",
              "  'крутиться',\n",
              "  'сторона',\n",
              "  'казаться',\n",
              "  'двигатель',\n",
              "  'начинать',\n",
              "  'подкорачивать',\n",
              "  'делать',\n",
              "  'правильно',\n",
              "  'болгарка',\n",
              "  'макит'],\n",
              " ['несложно',\n",
              "  'написать',\n",
              "  'дать',\n",
              "  'ссылка',\n",
              "  'загадка',\n",
              "  'интересный',\n",
              "  'тупой',\n",
              "  'какиенибудь',\n",
              "  'загадка',\n",
              "  'глобальный',\n",
              "  'масштаб',\n",
              "  'интересно',\n",
              "  'возможно',\n",
              "  'разгадать'],\n",
              " ['помочь',\n",
              "  'разобраться',\n",
              "  'mysql',\n",
              "  'возвращать',\n",
              "  'двойной',\n",
              "  'значение',\n",
              "  'убрать',\n",
              "  'ошибка',\n",
              "  'администрировать',\n",
              "  'сайт',\n",
              "  'небольшой',\n",
              "  'соцсеть',\n",
              "  'движок',\n",
              "  'phpfox',\n",
              "  'создавать',\n",
              "  'сообщество',\n",
              "  'тип',\n",
              "  'группа',\n",
              "  'вконтакте',\n",
              "  'создаваться',\n",
              "  'результат',\n",
              "  'вместо',\n",
              "  '1',\n",
              "  'сообщество',\n",
              "  'высвечиваться',\n",
              "  '2',\n",
              "  'одинаковый',\n",
              "  'сообщество',\n",
              "  'удалять',\n",
              "  'исчезать',\n",
              "  'справиться',\n",
              "  'проблема',\n",
              "  'насколько',\n",
              "  'понимать',\n",
              "  'mysql',\n",
              "  'какойтый',\n",
              "  'причина',\n",
              "  'возвращать',\n",
              "  'двойной',\n",
              "  'значение',\n",
              "  'вообщеть',\n",
              "  'чайник',\n",
              "  'mysql'],\n",
              " ['рисунок',\n",
              "  '1',\n",
              "  'изображё',\n",
              "  'план',\n",
              "  'комната',\n",
              "  'длина',\n",
              "  'сторона',\n",
              "  'клетка',\n",
              "  'условно',\n",
              "  'изображать',\n",
              "  '1',\n",
              "  'длина',\n",
              "  'комната',\n",
              "  'план',\n",
              "  '6',\n",
              "  'клетка',\n",
              "  'настоящий',\n",
              "  'длина',\n",
              "  '6',\n",
              "  'найти',\n",
              "  'ширена',\n",
              "  'вычислить',\n",
              "  'площадь',\n",
              "  'комната'],\n",
              " ['новый', 'фильм', 'танк', 'думать', 'оскар', 'тянуть'],\n",
              " ['подсказать', 'хороший', 'звукорежиссёрский', 'курс'],\n",
              " ['самый', 'белые', 'парень', 'знать'],\n",
              " ['ковонибудь',\n",
              "  'книга',\n",
              "  'ms',\n",
              "  'access',\n",
              "  'писаться',\n",
              "  'срочно',\n",
              "  'нада',\n",
              "  'скоро',\n",
              "  'экзамен',\n",
              "  'бумбум'],\n",
              " ['стать', 'хороший', 'никчий'],\n",
              " ['отрасль', 'экономика', 'развиваться', 'бурно'],\n",
              " ['помочь',\n",
              "  'написать',\n",
              "  'сочинение',\n",
              "  'тема',\n",
              "  'көрші',\n",
              "  'елдермена',\n",
              "  'достықт',\n",
              "  'татулықт',\n",
              "  'болубұқар',\n",
              "  'жырының',\n",
              "  'өзекті',\n",
              "  'тақырыба'],\n",
              " ['делать',\n",
              "  'четверть',\n",
              "  'тройка',\n",
              "  'мхкчтоба',\n",
              "  'папаня',\n",
              "  'узнать',\n",
              "  'выкинуть',\n",
              "  'дневник',\n",
              "  'помойкуа',\n",
              "  'скахать',\n",
              "  'папа',\n",
              "  'оценкитеперить',\n",
              "  'папа',\n",
              "  'требовать',\n",
              "  'дневникть',\n",
              "  'ухо',\n",
              "  'влиплащас',\n",
              "  'говорить',\n",
              "  'днев',\n",
              "  'подругипомочь'],\n",
              " ['награждение',\n",
              "  'сотрудник',\n",
              "  'фирма',\n",
              "  'ценный',\n",
              "  'подарок',\n",
              "  'успех',\n",
              "  'труд',\n",
              "  'гражданскоправовой',\n",
              "  'отношение',\n",
              "  'обосновать',\n",
              "  'свой',\n",
              "  'ответ'],\n",
              " ['помочь',\n",
              "  'таблица',\n",
              "  'привести',\n",
              "  'высокий',\n",
              "  'вершина',\n",
              "  'некоторый',\n",
              "  'горный',\n",
              "  'система',\n",
              "  'европыокруглить',\n",
              "  'высота',\n",
              "  'вершина',\n",
              "  'сотня',\n",
              "  'метровдлить',\n",
              "  'изображение',\n",
              "  'высота',\n",
              "  '100',\n",
              "  'взять',\n",
              "  'отрезокдлин',\n",
              "  'равный',\n",
              "  '1мми',\n",
              "  'построить',\n",
              "  'столбчатый',\n",
              "  'диаграмма',\n",
              "  'высота',\n",
              "  'привести',\n",
              "  'вершина',\n",
              "  'горный',\n",
              "  'система'],\n",
              " ['морфологический', 'разбор', 'словадым'],\n",
              " ['стать', 'король', 'президент', 'указ'],\n",
              " ['море', 'колено'],\n",
              " ['подсказать',\n",
              "  'программа',\n",
              "  'восстановление',\n",
              "  'удалённый',\n",
              "  'файл',\n",
              "  'флешка',\n",
              "  'undelete',\n",
              "  'plus',\n",
              "  'вист'],\n",
              " ['блиина',\n",
              "  'нос',\n",
              "  'огромный',\n",
              "  'слева',\n",
              "  'монитор',\n",
              "  'вылезать',\n",
              "  'нервировать',\n",
              "  'каг',\n",
              "  'убрать'],\n",
              " ['муж',\n",
              "  'похоронить',\n",
              "  'старое',\n",
              "  'пёс',\n",
              "  'копал',\n",
              "  'могила',\n",
              "  'найти',\n",
              "  'подкова',\n",
              "  'дом',\n",
              "  'мнение'],\n",
              " ['начаться', '1', 'война'],\n",
              " ['рыба',\n",
              "  'кувшинка',\n",
              "  'читать',\n",
              "  'пояснение',\n",
              "  'рыба',\n",
              "  'кувшинка',\n",
              "  'карп',\n",
              "  'карась',\n",
              "  'золотой',\n",
              "  'серебряный',\n",
              "  'золотой',\n",
              "  'рыбка',\n",
              "  'вьюн',\n",
              "  'толстолобик'],\n",
              " ['иконкаfavicon',\n",
              "  'получаться',\n",
              "  'размытый',\n",
              "  'нечёткий',\n",
              "  'делать',\n",
              "  'сайт',\n",
              "  'faviconru',\n",
              "  'брать',\n",
              "  'разный',\n",
              "  'изображение',\n",
              "  'маленький',\n",
              "  'равно',\n",
              "  'расплывчатый',\n",
              "  'сделать',\n",
              "  'нормальный',\n",
              "  'значокфавикон',\n",
              "  'сайт'],\n",
              " ['добрый',\n",
              "  'ночипомочь',\n",
              "  'решить',\n",
              "  'задачуиза',\n",
              "  'мотка',\n",
              "  'проволока',\n",
              "  '72мотрезать',\n",
              "  '18мкака',\n",
              "  'проволока',\n",
              "  'остаться',\n",
              "  'мотка'],\n",
              " ['отметить',\n",
              "  'главный',\n",
              "  'достопримечательность',\n",
              "  'город',\n",
              "  'визитный',\n",
              "  'карточка',\n",
              "  '1',\n",
              "  'фок',\n",
              "  '«звёздный»',\n",
              "  '2',\n",
              "  'река',\n",
              "  'волга',\n",
              "  '3',\n",
              "  'здание',\n",
              "  'консерватория',\n",
              "  '4',\n",
              "  'ледовый',\n",
              "  'дворец',\n",
              "  'спорт'],\n",
              " ['10', 'предия', 'состовный', 'глагольный', 'сказуемое'],\n",
              " ['полыхнуть', 'район', 'оригинальный', 'мысль'],\n",
              " ['стоять', 'проститутка', 'трасса'],\n",
              " ['помочь',\n",
              "  'зарегестрировиться',\n",
              "  'ea',\n",
              "  'зарегестрировиться',\n",
              "  'ea',\n",
              "  'games',\n",
              "  'лицензионный',\n",
              "  'фифa',\n",
              "  '10',\n",
              "  'официальный',\n",
              "  'сайт',\n",
              "  'electronic',\n",
              "  'arts',\n",
              "  'зарегестрировиться',\n",
              "  'найти',\n",
              "  'помочь'],\n",
              " ['очередной',\n",
              "  'заправка',\n",
              "  'картридж',\n",
              "  'принтер',\n",
              "  'начать',\n",
              "  'печатать',\n",
              "  'белый',\n",
              "  'полоса',\n",
              "  'посередине',\n",
              "  'лист',\n",
              "  'причина'],\n",
              " ['определить', 'валентность', 'коэффицент'],\n",
              " ['думать', 'сделать', 'занятие', 'проституция', 'уголовно', 'наказуемый'],\n",
              " ['парень', 'случай', 'жениться', 'шалавый'],\n",
              " ['игра', 'улица', 'ребёнок', '12', '14'],\n",
              " ['далее',\n",
              "  'гранин',\n",
              "  'поливать',\n",
              "  'ссср',\n",
              "  'россия',\n",
              "  'грязь',\n",
              "  'получить',\n",
              "  'президент',\n",
              "  'орден',\n",
              "  'первозванный',\n",
              "  'справедливо',\n",
              "  'думать',\n",
              "  'суворов',\n",
              "  'резуна',\n",
              "  'далее',\n",
              "  'гранин',\n",
              "  'читаемый',\n",
              "  'писатель',\n",
              "  'нанести',\n",
              "  'имидж',\n",
              "  'россия',\n",
              "  'ощутимый',\n",
              "  'вред',\n",
              "  'непонятно',\n",
              "  'уважаемый',\n",
              "  'народ',\n",
              "  'президент',\n",
              "  'вречить',\n",
              "  'высокий',\n",
              "  'награда',\n",
              "  'россия',\n",
              "  'ассоциация',\n",
              "  'прямо',\n",
              "  'скажем',\n",
              "  'нелицеприятный',\n",
              "  'думать'],\n",
              " ['ноутбук',\n",
              "  'работать',\n",
              "  'грузиться',\n",
              "  'лампочка',\n",
              "  'гореть',\n",
              "  'делать',\n",
              "  'подсказать',\n",
              "  'плизззза'],\n",
              " ['нужный', 'прошивка', 'нокиа'],\n",
              " ['мальенький', 'принц', 'смотреть', 'фонарщик'],\n",
              " ['списаиь',\n",
              "  'текстподелить',\n",
              "  'ено',\n",
              "  'предложенияподобрать',\n",
              "  'записать',\n",
              "  'текст',\n",
              "  'заголовокподчеркнуть',\n",
              "  'мягкий',\n",
              "  'согласный',\n",
              "  'звукиприйти',\n",
              "  'осенний',\n",
              "  'опустеть',\n",
              "  'лесной',\n",
              "  'поляна',\n",
              "  'частый',\n",
              "  'лить',\n",
              "  'дождь',\n",
              "  'земля',\n",
              "  'ползти',\n",
              "  'хмурый',\n",
              "  'туча',\n",
              "  'ветер',\n",
              "  'шуршать',\n",
              "  'сухой',\n",
              "  'лист',\n",
              "  'птица',\n",
              "  'улетать',\n",
              "  'зимовать',\n",
              "  'юг'],\n",
              " ['рассчитать', 'масса', 'вещество', 'растворить', '40', '25ный', 'раствор'],\n",
              " ['помочь', 'плиз', 'номер', '202'],\n",
              " ['отличаться', 'equine', 'horse'],\n",
              " ['назвать', 'обьект', 'находиться', 'север', 'юг', 'восток', 'запад'],\n",
              " ['хороший', 'обожать', 'предмет', 'обожание'],\n",
              " ['посоветовать', 'спавна', 'меню', 'сталкер', 'кал', 'оф', 'мизерь', '100d'],\n",
              " ['правильно', 'делать', 'минуть'],\n",
              " ['скрыть', 'страница', 'вкатакть'],\n",
              " ['санаторий',\n",
              "  'петродворец',\n",
              "  'бывший',\n",
              "  'царский',\n",
              "  'конюшня',\n",
              "  'продать',\n",
              "  'персонал',\n",
              "  'уволить',\n",
              "  '1',\n",
              "  'февраль',\n",
              "  'угадать'],\n",
              " ['авто',\n",
              "  'торговля',\n",
              "  'форекс',\n",
              "  'самый',\n",
              "  'отличный',\n",
              "  'советник',\n",
              "  'форекс',\n",
              "  'бесплатный',\n",
              "  'хороший',\n",
              "  'торговать',\n",
              "  'советник']]"
            ]
          },
          "execution_count": 31,
          "metadata": {},
          "output_type": "execute_result"
        }
      ],
      "source": [
        "#корпус предложений из набора запросов мейлру\n",
        "sentences = df.iloc[:]['question_prep'].tolist()\n",
        "sentences=[a for i in sentences if len(a:=i.split())>1] #учитывать запросы более одного слова\n"
      ]
    },
    {
      "cell_type": "code",
      "execution_count": 79,
      "metadata": {},
      "outputs": [
        {
          "data": {
            "text/plain": [
              "1163330"
            ]
          },
          "execution_count": 79,
          "metadata": {},
          "output_type": "execute_result"
        }
      ],
      "source": [
        "len(sentences) #[:5]"
      ]
    },
    {
      "cell_type": "markdown",
      "metadata": {},
      "source": [
        "теперь можно дообучить модель на запросах мейлру"
      ]
    },
    {
      "cell_type": "code",
      "execution_count": 83,
      "metadata": {},
      "outputs": [
        {
          "data": {
            "text/plain": [
              "(67849574, 68636410)"
            ]
          },
          "execution_count": 83,
          "metadata": {},
          "output_type": "execute_result"
        }
      ],
      "source": [
        "\n",
        "model.build_vocab(corpus_iterable=sentences, update=True)\n",
        "# продолжить тренировку с новыми данными (корпус запросов мейлру)\n",
        "model.train(corpus_iterable=sentences, total_examples=len(sentences), epochs=model.epochs)\n"
      ]
    },
    {
      "cell_type": "code",
      "execution_count": 63,
      "metadata": {},
      "outputs": [
        {
          "data": {
            "text/plain": [
              "[('рукав', 0.8301815390586853),\n",
              " ('юбочка', 0.8221212029457092),\n",
              " ('штанишки', 0.8165958523750305),\n",
              " ('шорты', 0.8089324831962585),\n",
              " ('сарафан', 0.7961568236351013),\n",
              " ('кофточка', 0.789705753326416),\n",
              " ('маечка', 0.7602289915084839),\n",
              " ('обтягивать', 0.7535911798477173),\n",
              " ('чулок', 0.7487340569496155),\n",
              " ('коротенький', 0.7418197989463806)]"
            ]
          },
          "execution_count": 63,
          "metadata": {},
          "output_type": "execute_result"
        }
      ],
      "source": [
        "model.wv.most_similar(positive=['юбка','кофта'],negative=['брюки'])"
      ]
    },
    {
      "cell_type": "code",
      "execution_count": 60,
      "metadata": {},
      "outputs": [
        {
          "name": "stdout",
          "output_type": "stream",
          "text": [
            "Find the top-N most similar keys.\n",
            "        Positive keys contribute positively towards the similarity, negative keys negatively.\n",
            "\n",
            "        This method computes cosine similarity between a simple mean of the projection\n",
            "        weight vectors of the given keys and the vectors for each key in the model.\n",
            "        The method corresponds to the `word-analogy` and `distance` scripts in the original\n",
            "        word2vec implementation.\n",
            "\n",
            "        Parameters\n",
            "        ----------\n",
            "        positive : list of (str or int or ndarray) or list of ((str,float) or (int,float) or (ndarray,float)), optional\n",
            "            List of keys that contribute positively. If tuple, second element specifies the weight (default `1.0`)\n",
            "        negative : list of (str or int or ndarray) or list of ((str,float) or (int,float) or (ndarray,float)), optional\n",
            "            List of keys that contribute negatively. If tuple, second element specifies the weight (default `-1.0`)\n",
            "        topn : int or None, optional\n",
            "            Number of top-N similar keys to return, when `topn` is int. When `topn` is None,\n",
            "            then similarities for all keys are returned.\n",
            "        clip_start : int\n",
            "            Start clipping index.\n",
            "        clip_end : int\n",
            "            End clipping index.\n",
            "        restrict_vocab : int, optional\n",
            "            Optional integer which limits the range of vectors which\n",
            "            are searched for most-similar values. For example, restrict_vocab=10000 would\n",
            "            only check the first 10000 key vectors in the vocabulary order. (This may be\n",
            "            meaningful if you've sorted the vocabulary by descending frequency.) If\n",
            "            specified, overrides any values of ``clip_start`` or ``clip_end``.\n",
            "\n",
            "        Returns\n",
            "        -------\n",
            "        list of (str, float) or numpy.array\n",
            "            When `topn` is int, a sequence of (key, similarity) is returned.\n",
            "            When `topn` is None, then similarities for all keys are returned as a\n",
            "            one-dimensional numpy array with the size of the vocabulary.\n",
            "\n",
            "        \n"
          ]
        }
      ],
      "source": [
        "print(model.wv.most_similar.__doc__)"
      ]
    },
    {
      "cell_type": "markdown",
      "metadata": {
        "id": "2i0XxCAuP5Op"
      },
      "source": [
        "Один из простейших бейзлайн способов представления фразы/предложения в качестве вектора - использование усредненной суммы векторов слов, полученных кодированием word2vec. \n",
        "создадим дополнительные столбцы для обоих датасетов, куда закодируем вектором фразы:\n",
        "для товаров - обработанный столбец title,\n",
        "для болталки мейлру - обработанный столбец вопросов.Теперь нам нужно сложить в индекс все вопросы. Используем библиотеку annoy. Проходимся по всем ответам, считаем, что вектор предложения - сумма word2vecов слов, которые входят в него (конечно же усредненная)"
      ]
    },
    {
      "cell_type": "code",
      "execution_count": 87,
      "metadata": {
        "id": "wwW3CG8tP5Op"
      },
      "outputs": [],
      "source": [
        "index_map = {}\n",
        "counter = 0\n",
        "# создать дополнительный столбец с векториндексом запроса (и для товаров, и для НЕ товаров)\n",
        "def sumword2vec(ds,col):\n",
        "    # функция обертка для реализации прогресбара\n",
        "    def applyvec(line):\n",
        "        # функция для формирования значений вектор-столбца\n",
        "        nonlocal tmpcnt,start_time,lastcnt,t\n",
        "        tmpcnt+=1\n",
        "        if time.time()-start_time>2:\n",
        "            start_time = time.time()\n",
        "            #так было удобно сделать в одной строке\n",
        "            t.update((tmpcnt-lastcnt,lastcnt:=tmpcnt)[0])\n",
        "        n_w2v = 0\n",
        "        spls = line.split() #в рядах обработанные строки слов, разделенные пробелом\n",
        "        \n",
        "        # вычисление вектора фразы\n",
        "        vector = np.zeros(100)\n",
        "        for word in spls:\n",
        "            if word in model.wv:\n",
        "                vector += model.wv[word]\n",
        "                n_w2v += 1\n",
        "        if n_w2v > 0:\n",
        "            vector = vector / n_w2v\n",
        "        return vector\n",
        "    t = tqdm(total=len(ds.index)) # инициализировать прогресбар \n",
        "    start_time = time.time() #использовать интервал для настройки частоты отображения прогресбара\n",
        "    tmpcnt=0\n",
        "    lastcnt=0\n",
        "    # создать в датасете дополнительный столбец с вектор-индексом фразы(из title или question)\n",
        "    ds[f'vecindex']=ds.iloc[:][col].apply(applyvec)\n",
        "    t.update((tmpcnt-lastcnt,lastcnt:=tmpcnt)[0])\n",
        "    t.close()\n",
        "\n"
      ]
    },
    {
      "cell_type": "code",
      "execution_count": 97,
      "metadata": {},
      "outputs": [
        {
          "data": {
            "text/html": [
              "<div>\n",
              "<style scoped>\n",
              "    .dataframe tbody tr th:only-of-type {\n",
              "        vertical-align: middle;\n",
              "    }\n",
              "\n",
              "    .dataframe tbody tr th {\n",
              "        vertical-align: top;\n",
              "    }\n",
              "\n",
              "    .dataframe thead th {\n",
              "        text-align: right;\n",
              "    }\n",
              "</style>\n",
              "<table border=\"1\" class=\"dataframe\">\n",
              "  <thead>\n",
              "    <tr style=\"text-align: right;\">\n",
              "      <th></th>\n",
              "      <th>title</th>\n",
              "      <th>descrirption</th>\n",
              "      <th>product_id</th>\n",
              "      <th>category_id</th>\n",
              "      <th>subcategory_id</th>\n",
              "      <th>properties</th>\n",
              "      <th>image_links</th>\n",
              "      <th>title_prep</th>\n",
              "      <th>vecindex</th>\n",
              "    </tr>\n",
              "  </thead>\n",
              "  <tbody>\n",
              "    <tr>\n",
              "      <th>0</th>\n",
              "      <td>Юбка детская ORBY</td>\n",
              "      <td>Новая, не носили ни разу. В реале красивей чем...</td>\n",
              "      <td>58e3cfe6132ca50e053f5f82</td>\n",
              "      <td>22.0</td>\n",
              "      <td>2211</td>\n",
              "      <td>{'detskie_razmer_rost': '81-86 (1,5 года)'}</td>\n",
              "      <td>http://cache3.youla.io/files/images/360_360/58...</td>\n",
              "      <td>юбка детский orby</td>\n",
              "      <td>[1.4841254154841106, 1.0441311125953991, 0.215...</td>\n",
              "    </tr>\n",
              "  </tbody>\n",
              "</table>\n",
              "</div>"
            ],
            "text/plain": [
              "               title                                       descrirption  \\\n",
              "0  Юбка детская ORBY  Новая, не носили ни разу. В реале красивей чем...   \n",
              "\n",
              "                 product_id  category_id subcategory_id  \\\n",
              "0  58e3cfe6132ca50e053f5f82         22.0           2211   \n",
              "\n",
              "                                    properties  \\\n",
              "0  {'detskie_razmer_rost': '81-86 (1,5 года)'}   \n",
              "\n",
              "                                         image_links         title_prep  \\\n",
              "0  http://cache3.youla.io/files/images/360_360/58...  юбка детский orby   \n",
              "\n",
              "                                            vecindex  \n",
              "0  [1.4841254154841106, 1.0441311125953991, 0.215...  "
            ]
          },
          "execution_count": 97,
          "metadata": {},
          "output_type": "execute_result"
        }
      ],
      "source": [
        "pds.head(1)"
      ]
    },
    {
      "cell_type": "code",
      "execution_count": 91,
      "metadata": {},
      "outputs": [
        {
          "data": {
            "text/html": [
              "<div>\n",
              "<style scoped>\n",
              "    .dataframe tbody tr th:only-of-type {\n",
              "        vertical-align: middle;\n",
              "    }\n",
              "\n",
              "    .dataframe tbody tr th {\n",
              "        vertical-align: top;\n",
              "    }\n",
              "\n",
              "    .dataframe thead th {\n",
              "        text-align: right;\n",
              "    }\n",
              "</style>\n",
              "<table border=\"1\" class=\"dataframe\">\n",
              "  <thead>\n",
              "    <tr style=\"text-align: right;\">\n",
              "      <th></th>\n",
              "      <th>question</th>\n",
              "      <th>answer</th>\n",
              "      <th>question_prep</th>\n",
              "      <th>vecindex</th>\n",
              "    </tr>\n",
              "  </thead>\n",
              "  <tbody>\n",
              "    <tr>\n",
              "      <th>1</th>\n",
              "      <td>вопрос о тдв)) давно и хорошо отдыхаем)) лично...</td>\n",
              "      <td>хомячка....\\tмужика, йопаря, собачку и 50 коше...</td>\n",
              "      <td>вопрос тдв отдыхать лично советовать завести</td>\n",
              "      <td>[-0.8277268558740616, 0.49365271255373955, 1.2...</td>\n",
              "    </tr>\n",
              "  </tbody>\n",
              "</table>\n",
              "</div>"
            ],
            "text/plain": [
              "                                            question  \\\n",
              "1  вопрос о тдв)) давно и хорошо отдыхаем)) лично...   \n",
              "\n",
              "                                              answer  \\\n",
              "1  хомячка....\\tмужика, йопаря, собачку и 50 коше...   \n",
              "\n",
              "                                  question_prep  \\\n",
              "1  вопрос тдв отдыхать лично советовать завести   \n",
              "\n",
              "                                            vecindex  \n",
              "1  [-0.8277268558740616, 0.49365271255373955, 1.2...  "
            ]
          },
          "execution_count": 91,
          "metadata": {},
          "output_type": "execute_result"
        }
      ],
      "source": [
        "df.head(1)"
      ]
    },
    {
      "cell_type": "code",
      "execution_count": 90,
      "metadata": {},
      "outputs": [
        {
          "name": "stdout",
          "output_type": "stream",
          "text": [
            "[-0.82772686  0.49365271  1.24050184  1.03491035  1.05339716 -0.18407718\n",
            "  0.45432561  0.40992025  0.96945837  0.35692266 -0.13263479 -0.01535376\n",
            " -1.64355929  0.58240894  0.40453424 -1.08462994 -0.50826946 -0.20484385\n",
            " -0.48125024  1.69421851 -0.6142003  -0.36673773 -0.65685503 -0.34903202\n",
            " -0.61704534 -1.23975551  1.03734131  0.05972732 -1.06981473 -1.08750941\n",
            " -0.69615838 -0.65060829  1.29241284  0.31295301  0.91568514  2.12699525\n",
            " -1.3547248  -1.15843924  0.11789038  0.57233183  0.16226711  1.16467658\n",
            "  0.86137497 -0.95360246  0.18864034 -0.77169943 -0.90862725 -0.3176515\n",
            " -0.56394849 -1.13173235  0.29355654  0.16674016 -1.17538136  0.23316197\n",
            " -0.6587689  -1.66720207  1.6868925   1.28895317 -0.67346612 -0.18752755\n",
            " -0.35471381 -0.67341894  0.58727042 -1.23853339 -0.63254675 -1.23734834\n",
            "  0.82355444 -0.40675593  0.41626332 -1.9199152   0.66742357 -1.34558213\n",
            " -0.55136796 -0.31373637 -0.90782553  0.05098521  0.20856745 -0.11931086\n",
            " -0.69548878 -0.37781397 -0.06305252  0.8127331   0.08745329  1.10772188\n",
            " -0.35735202  1.56578389 -0.16646603 -0.22348992  0.10128754 -0.24293794\n",
            "  1.86645302 -0.62927922 -0.22267654 -0.48011242  0.17674397  0.88351008\n",
            " -0.86495154  0.10005428  0.41422798 -0.46617244]\n"
          ]
        }
      ],
      "source": [
        "print(df.iloc[0]['vecindex'])\n"
      ]
    },
    {
      "cell_type": "code",
      "execution_count": 85,
      "metadata": {},
      "outputs": [
        {
          "name": "stdout",
          "output_type": "stream",
          "text": [
            "[ 0.64734143  0.50432409 -0.23151234 -0.15597232  0.328048   -0.07067225\n",
            "  0.38690964  0.22729939 -0.91181565  0.11345775 -0.35748898  0.16165511\n",
            " -0.06779443 -0.0950877   0.23366391 -0.06760442  0.24694733  0.16366537\n",
            " -0.10089072 -0.52164306 -0.24070983  0.05717468  0.24729343 -0.02294074\n",
            "  0.52298647 -0.28287018 -0.12095548 -0.41508947 -0.24778344 -0.16591442\n",
            "  0.12029481 -0.40046666  0.35153085 -0.50978494  0.07510399  0.30821139\n",
            " -0.07206717 -0.38813299  0.51708973 -0.33726708  0.19357984 -0.49946754\n",
            "  0.66286455 -0.07805283  0.43857615  0.16608332  0.50298305  0.28398754\n",
            " -0.56687314  0.38311675  0.21942645 -0.11375095 -0.18812849  0.12314178\n",
            "  0.16768277 -0.26240962 -0.10943727 -0.33590893 -0.05984133 -0.30275752\n",
            "  0.54257871 -0.32819748 -0.35818039 -0.13317965 -0.05576548  0.04662169\n",
            " -0.05684746 -0.05069867 -0.39161339 -0.09801223  0.1088431   0.72340854\n",
            "  0.37337418  0.11233049 -0.17050511 -0.24796922  0.01852107 -0.17917768\n",
            " -0.21408011 -0.01815455  0.37436533 -0.04484458 -0.46753389  0.35072539\n",
            "  0.27651304 -0.18962024 -0.16138907  0.08481269  0.03480344  0.45791324\n",
            "  0.11320118 -0.06625521 -0.17164579  0.01440422  0.3381149  -0.05281864\n",
            "  0.03579159 -0.22628227  0.14084156 -0.57704067]\n"
          ]
        }
      ],
      "source": [
        "print(pds.iloc[0]['vecindex'])"
      ]
    },
    {
      "cell_type": "code",
      "execution_count": 96,
      "metadata": {},
      "outputs": [
        {
          "data": {
            "text/plain": [
              "True"
            ]
          },
          "execution_count": 96,
          "metadata": {},
          "output_type": "execute_result"
        }
      ],
      "source": [
        "# model.wv['юбченка']\n",
        "'юбка' in model.wv.key_to_index"
      ]
    },
    {
      "cell_type": "code",
      "execution_count": 86,
      "metadata": {},
      "outputs": [
        {
          "name": "stderr",
          "output_type": "stream",
          "text": [
            "\n",
            "\u001b[A\n",
            "100%|██████████| 35548/35548 [00:01<00:00, 32190.58it/s]\n"
          ]
        }
      ],
      "source": [
        "sumword2vec(pds,'title_prep')"
      ]
    },
    {
      "cell_type": "code",
      "execution_count": 89,
      "metadata": {},
      "outputs": [
        {
          "name": "stderr",
          "output_type": "stream",
          "text": [
            "100%|██████████| 1163330/1163330 [01:44<00:00, 11150.18it/s]\n"
          ]
        }
      ],
      "source": [
        "sumword2vec(df,'question_prep')"
      ]
    },
    {
      "cell_type": "code",
      "execution_count": 92,
      "metadata": {},
      "outputs": [],
      "source": [
        "# создание столбца vecindex заняло 2 минуты, а сохранение на диск заняло 24минуты.\n",
        "# похоже, нет смысла хранить расширенные векторные данные???\n",
        "pds.to_csv(f'{DIR}ProductsDataset_vec.csv',index=False)\n",
        "df.to_csv(f'{DIR}Otvety_vec.csv',index=False)\n",
        "model.save(\"w2v_model_prod\")"
      ]
    },
    {
      "cell_type": "markdown",
      "metadata": {},
      "source": [
        "по имеющимся в датасетах запросам следует обучить логистическую регрессию, чтобы различать\n",
        "товарный запрос (из датасета pds столбец vecindex) и\n",
        "не относящийся к продуктовому запрос (из датасета df вопросов/ответов mailru тоже столбец vecindex)"
      ]
    },
    {
      "cell_type": "code",
      "execution_count": 99,
      "metadata": {},
      "outputs": [],
      "source": [
        "# соединить датасеты с формированием целевого признака\n",
        "pds_=pds[['vecindex']].assign(y=lambda x:0) #установить целевую переменную 0 для товаров\n",
        "df_=df[['vecindex']].assign(y=lambda x:1) #установить целевую переменную 1 для НЕ товаров"
      ]
    },
    {
      "cell_type": "code",
      "execution_count": 129,
      "metadata": {},
      "outputs": [
        {
          "name": "stdout",
          "output_type": "stream",
          "text": [
            "35548 1163330\n"
          ]
        }
      ],
      "source": [
        "# если использовать полные таблицы, то выборка по y=0 и y=1 будет несбалансированная\n",
        "print(len(pds_.index),len(df_.index))"
      ]
    },
    {
      "cell_type": "code",
      "execution_count": 104,
      "metadata": {},
      "outputs": [
        {
          "data": {
            "text/html": [
              "<div>\n",
              "<style scoped>\n",
              "    .dataframe tbody tr th:only-of-type {\n",
              "        vertical-align: middle;\n",
              "    }\n",
              "\n",
              "    .dataframe tbody tr th {\n",
              "        vertical-align: top;\n",
              "    }\n",
              "\n",
              "    .dataframe thead th {\n",
              "        text-align: right;\n",
              "    }\n",
              "</style>\n",
              "<table border=\"1\" class=\"dataframe\">\n",
              "  <thead>\n",
              "    <tr style=\"text-align: right;\">\n",
              "      <th></th>\n",
              "      <th>vecindex</th>\n",
              "      <th>y</th>\n",
              "    </tr>\n",
              "  </thead>\n",
              "  <tbody>\n",
              "    <tr>\n",
              "      <th>1</th>\n",
              "      <td>[-0.8277268558740616, 0.49365271255373955, 1.2...</td>\n",
              "      <td>1</td>\n",
              "    </tr>\n",
              "    <tr>\n",
              "      <th>2</th>\n",
              "      <td>[-0.7071204707026482, 0.5916969319805503, 0.97...</td>\n",
              "      <td>1</td>\n",
              "    </tr>\n",
              "  </tbody>\n",
              "</table>\n",
              "</div>"
            ],
            "text/plain": [
              "                                            vecindex  y\n",
              "1  [-0.8277268558740616, 0.49365271255373955, 1.2...  1\n",
              "2  [-0.7071204707026482, 0.5916969319805503, 0.97...  1"
            ]
          },
          "execution_count": 104,
          "metadata": {},
          "output_type": "execute_result"
        }
      ],
      "source": [
        "df_.head(2)"
      ]
    },
    {
      "cell_type": "code",
      "execution_count": 105,
      "metadata": {},
      "outputs": [],
      "source": [
        "# взять поровну примеров\n",
        "pdsdf=pd.concat([pds_,df_.iloc[:len(pds_.index)]])"
      ]
    },
    {
      "cell_type": "code",
      "execution_count": 113,
      "metadata": {},
      "outputs": [
        {
          "name": "stderr",
          "output_type": "stream",
          "text": [
            "C:\\Users\\vsevolod.volkov\\AppData\\Local\\Temp\\ipykernel_6492\\1920511805.py:1: PerformanceWarning: DataFrame is highly fragmented.  This is usually the result of calling `frame.insert` many times, which has poor performance.  Consider joining all columns at once using pd.concat(axis=1) instead. To get a de-fragmented frame, use `newframe = frame.copy()`\n",
            "  pdsdf[[f'col{i}' for i in range(len(pdsdf.iloc[0]['vecindex']))]]=pd.DataFrame(pdsdf['vecindex'].tolist())\n",
            "C:\\Users\\vsevolod.volkov\\AppData\\Local\\Temp\\ipykernel_6492\\1920511805.py:1: PerformanceWarning: DataFrame is highly fragmented.  This is usually the result of calling `frame.insert` many times, which has poor performance.  Consider joining all columns at once using pd.concat(axis=1) instead. To get a de-fragmented frame, use `newframe = frame.copy()`\n",
            "  pdsdf[[f'col{i}' for i in range(len(pdsdf.iloc[0]['vecindex']))]]=pd.DataFrame(pdsdf['vecindex'].tolist())\n"
          ]
        },
        {
          "data": {
            "text/html": [
              "<div>\n",
              "<style scoped>\n",
              "    .dataframe tbody tr th:only-of-type {\n",
              "        vertical-align: middle;\n",
              "    }\n",
              "\n",
              "    .dataframe tbody tr th {\n",
              "        vertical-align: top;\n",
              "    }\n",
              "\n",
              "    .dataframe thead th {\n",
              "        text-align: right;\n",
              "    }\n",
              "</style>\n",
              "<table border=\"1\" class=\"dataframe\">\n",
              "  <thead>\n",
              "    <tr style=\"text-align: right;\">\n",
              "      <th></th>\n",
              "      <th>vecindex</th>\n",
              "      <th>y</th>\n",
              "      <th>col0</th>\n",
              "      <th>col1</th>\n",
              "      <th>col2</th>\n",
              "      <th>col3</th>\n",
              "      <th>col4</th>\n",
              "      <th>col5</th>\n",
              "      <th>col6</th>\n",
              "      <th>col7</th>\n",
              "      <th>...</th>\n",
              "      <th>col90</th>\n",
              "      <th>col91</th>\n",
              "      <th>col92</th>\n",
              "      <th>col93</th>\n",
              "      <th>col94</th>\n",
              "      <th>col95</th>\n",
              "      <th>col96</th>\n",
              "      <th>col97</th>\n",
              "      <th>col98</th>\n",
              "      <th>col99</th>\n",
              "    </tr>\n",
              "  </thead>\n",
              "  <tbody>\n",
              "    <tr>\n",
              "      <th>0</th>\n",
              "      <td>[1.4841254154841106, 1.0441311125953991, 0.215...</td>\n",
              "      <td>0</td>\n",
              "      <td>1.484125</td>\n",
              "      <td>1.044131</td>\n",
              "      <td>0.215191</td>\n",
              "      <td>0.278143</td>\n",
              "      <td>0.962704</td>\n",
              "      <td>0.90284</td>\n",
              "      <td>0.978578</td>\n",
              "      <td>0.071939</td>\n",
              "      <td>...</td>\n",
              "      <td>1.182462</td>\n",
              "      <td>-1.223395</td>\n",
              "      <td>-0.294203</td>\n",
              "      <td>-0.76379</td>\n",
              "      <td>-0.61891</td>\n",
              "      <td>1.142289</td>\n",
              "      <td>-0.446753</td>\n",
              "      <td>0.159297</td>\n",
              "      <td>-0.088929</td>\n",
              "      <td>-0.790881</td>\n",
              "    </tr>\n",
              "  </tbody>\n",
              "</table>\n",
              "<p>1 rows × 102 columns</p>\n",
              "</div>"
            ],
            "text/plain": [
              "                                            vecindex  y      col0      col1  \\\n",
              "0  [1.4841254154841106, 1.0441311125953991, 0.215...  0  1.484125  1.044131   \n",
              "\n",
              "       col2      col3      col4     col5      col6      col7  ...     col90  \\\n",
              "0  0.215191  0.278143  0.962704  0.90284  0.978578  0.071939  ...  1.182462   \n",
              "\n",
              "      col91     col92    col93    col94     col95     col96     col97  \\\n",
              "0 -1.223395 -0.294203 -0.76379 -0.61891  1.142289 -0.446753  0.159297   \n",
              "\n",
              "      col98     col99  \n",
              "0 -0.088929 -0.790881  \n",
              "\n",
              "[1 rows x 102 columns]"
            ]
          },
          "execution_count": 113,
          "metadata": {},
          "output_type": "execute_result"
        }
      ],
      "source": [
        "# расцепить вектор -запроса по разным колонкам\n",
        "pdsdf[[f'col{i}' for i in range(len(pdsdf.iloc[0]['vecindex']))]]=pd.DataFrame(pdsdf['vecindex'].tolist())\n",
        "pdsdf.head(1)"
      ]
    },
    {
      "cell_type": "code",
      "execution_count": null,
      "metadata": {},
      "outputs": [],
      "source": [
        "clf=LogisticRegression(n_jobs=-1,verbose=1,random_state=0)\n",
        "X, y = pdsdf.iloc[:, 2:], pdsdf.iloc[:, 1]\n",
        "X_train, X_valid, y_train, y_valid =  train_test_split(X, y, test_size=0.3, shuffle=True)\n",
        "clf.fit(X_train,y_train)\n",
        "y_predict=clf.predict(X_valid)\n"
      ]
    },
    {
      "cell_type": "code",
      "execution_count": 116,
      "metadata": {},
      "outputs": [
        {
          "name": "stdout",
          "output_type": "stream",
          "text": [
            "f1score=0.4716630977872948\n"
          ]
        }
      ],
      "source": [
        "print(f'f1score={f1_score(y_valid,y_predict)}')"
      ]
    },
    {
      "cell_type": "code",
      "execution_count": 117,
      "metadata": {},
      "outputs": [
        {
          "name": "stdout",
          "output_type": "stream",
          "text": [
            "score=0.5087708722647537\n"
          ]
        }
      ],
      "source": [
        "# mean accuracy очень низкая. с таким же успехом можно гадать 50/50\n",
        "print(f'score={clf.score(X_train,y_train)}')"
      ]
    },
    {
      "cell_type": "code",
      "execution_count": 118,
      "metadata": {},
      "outputs": [
        {
          "name": "stderr",
          "output_type": "stream",
          "text": [
            "[Parallel(n_jobs=-1)]: Using backend LokyBackend with 4 concurrent workers.\n",
            "[Parallel(n_jobs=-1)]: Done   1 out of   1 | elapsed:   11.3s finished\n"
          ]
        },
        {
          "name": "stdout",
          "output_type": "stream",
          "text": [
            "score=0.5087105913557176\n",
            "f1score=0.4719314938154139\n"
          ]
        }
      ],
      "source": [
        "# регуляризация слабо влияет на результат\n",
        "clf=LogisticRegression(n_jobs=-1,verbose=1,random_state=0,C=1e5).fit(X_train,y_train)\n",
        "y_predict=clf.predict(X_valid)\n",
        "print(f'score={clf.score(X_train,y_train)}')\n",
        "print(f'f1score={f1_score(y_valid,y_predict)}')\n"
      ]
    },
    {
      "cell_type": "code",
      "execution_count": 128,
      "metadata": {},
      "outputs": [
        {
          "data": {
            "text/plain": [
              "0.030557107613488864"
            ]
          },
          "execution_count": 128,
          "metadata": {},
          "output_type": "execute_result"
        }
      ],
      "source": [
        "fweight=len(pds_.index)/len(df_.index)\n",
        "fweight"
      ]
    },
    {
      "cell_type": "code",
      "execution_count": 126,
      "metadata": {},
      "outputs": [
        {
          "data": {
            "text/html": [
              "<div>\n",
              "<style scoped>\n",
              "    .dataframe tbody tr th:only-of-type {\n",
              "        vertical-align: middle;\n",
              "    }\n",
              "\n",
              "    .dataframe tbody tr th {\n",
              "        vertical-align: top;\n",
              "    }\n",
              "\n",
              "    .dataframe thead th {\n",
              "        text-align: right;\n",
              "    }\n",
              "</style>\n",
              "<table border=\"1\" class=\"dataframe\">\n",
              "  <thead>\n",
              "    <tr style=\"text-align: right;\">\n",
              "      <th></th>\n",
              "      <th>vecindex</th>\n",
              "      <th>y</th>\n",
              "      <th>weight</th>\n",
              "    </tr>\n",
              "  </thead>\n",
              "  <tbody>\n",
              "    <tr>\n",
              "      <th>5380</th>\n",
              "      <td>[0.5139991500681, -0.018002582048731192, 0.512...</td>\n",
              "      <td>1</td>\n",
              "      <td>0.030557</td>\n",
              "    </tr>\n",
              "    <tr>\n",
              "      <th>377102</th>\n",
              "      <td>[0.17393629591573367, 0.8586087786507878, 0.72...</td>\n",
              "      <td>1</td>\n",
              "      <td>0.030557</td>\n",
              "    </tr>\n",
              "  </tbody>\n",
              "</table>\n",
              "</div>"
            ],
            "text/plain": [
              "                                                 vecindex  y    weight\n",
              "5380    [0.5139991500681, -0.018002582048731192, 0.512...  1  0.030557\n",
              "377102  [0.17393629591573367, 0.8586087786507878, 0.72...  1  0.030557"
            ]
          },
          "execution_count": 126,
          "metadata": {},
          "output_type": "execute_result"
        }
      ],
      "source": [
        "fweight=len(pds_.index)/len(df_.index)\n",
        "# создать колонку весов для испольбзования в дальнейшем несбалансированного датасета\n",
        "pdsdffull=pd.concat([pds_,df_]).assign(weight=lambda dataset: (dataset.y==0).map({True:1,False:fweight}))\n",
        "pdsdffull.sample(2)"
      ]
    },
    {
      "cell_type": "code",
      "execution_count": 131,
      "metadata": {},
      "outputs": [
        {
          "name": "stderr",
          "output_type": "stream",
          "text": [
            "C:\\Users\\vsevolod.volkov\\AppData\\Local\\Temp\\ipykernel_6492\\3898240133.py:2: PerformanceWarning: DataFrame is highly fragmented.  This is usually the result of calling `frame.insert` many times, which has poor performance.  Consider joining all columns at once using pd.concat(axis=1) instead. To get a de-fragmented frame, use `newframe = frame.copy()`\n",
            "  pdsdffull[[f'col{i}' for i in range(len(pdsdffull.iloc[0]['vecindex']))]]=pd.DataFrame(pdsdffull['vecindex'].tolist())\n",
            "C:\\Users\\vsevolod.volkov\\AppData\\Local\\Temp\\ipykernel_6492\\3898240133.py:2: PerformanceWarning: DataFrame is highly fragmented.  This is usually the result of calling `frame.insert` many times, which has poor performance.  Consider joining all columns at once using pd.concat(axis=1) instead. To get a de-fragmented frame, use `newframe = frame.copy()`\n",
            "  pdsdffull[[f'col{i}' for i in range(len(pdsdffull.iloc[0]['vecindex']))]]=pd.DataFrame(pdsdffull['vecindex'].tolist())\n",
            "C:\\Users\\vsevolod.volkov\\AppData\\Local\\Temp\\ipykernel_6492\\3898240133.py:2: PerformanceWarning: DataFrame is highly fragmented.  This is usually the result of calling `frame.insert` many times, which has poor performance.  Consider joining all columns at once using pd.concat(axis=1) instead. To get a de-fragmented frame, use `newframe = frame.copy()`\n",
            "  pdsdffull[[f'col{i}' for i in range(len(pdsdffull.iloc[0]['vecindex']))]]=pd.DataFrame(pdsdffull['vecindex'].tolist())\n"
          ]
        },
        {
          "data": {
            "text/html": [
              "<div>\n",
              "<style scoped>\n",
              "    .dataframe tbody tr th:only-of-type {\n",
              "        vertical-align: middle;\n",
              "    }\n",
              "\n",
              "    .dataframe tbody tr th {\n",
              "        vertical-align: top;\n",
              "    }\n",
              "\n",
              "    .dataframe thead th {\n",
              "        text-align: right;\n",
              "    }\n",
              "</style>\n",
              "<table border=\"1\" class=\"dataframe\">\n",
              "  <thead>\n",
              "    <tr style=\"text-align: right;\">\n",
              "      <th></th>\n",
              "      <th>vecindex</th>\n",
              "      <th>y</th>\n",
              "      <th>weight</th>\n",
              "      <th>col0</th>\n",
              "      <th>col1</th>\n",
              "      <th>col2</th>\n",
              "      <th>col3</th>\n",
              "      <th>col4</th>\n",
              "      <th>col5</th>\n",
              "      <th>col6</th>\n",
              "      <th>...</th>\n",
              "      <th>col90</th>\n",
              "      <th>col91</th>\n",
              "      <th>col92</th>\n",
              "      <th>col93</th>\n",
              "      <th>col94</th>\n",
              "      <th>col95</th>\n",
              "      <th>col96</th>\n",
              "      <th>col97</th>\n",
              "      <th>col98</th>\n",
              "      <th>col99</th>\n",
              "    </tr>\n",
              "  </thead>\n",
              "  <tbody>\n",
              "    <tr>\n",
              "      <th>0</th>\n",
              "      <td>[1.4841254154841106, 1.0441311125953991, 0.215...</td>\n",
              "      <td>0</td>\n",
              "      <td>1.0</td>\n",
              "      <td>1.484125</td>\n",
              "      <td>1.044131</td>\n",
              "      <td>0.215191</td>\n",
              "      <td>0.278143</td>\n",
              "      <td>0.962704</td>\n",
              "      <td>0.90284</td>\n",
              "      <td>0.978578</td>\n",
              "      <td>...</td>\n",
              "      <td>1.182462</td>\n",
              "      <td>-1.223395</td>\n",
              "      <td>-0.294203</td>\n",
              "      <td>-0.76379</td>\n",
              "      <td>-0.61891</td>\n",
              "      <td>1.142289</td>\n",
              "      <td>-0.446753</td>\n",
              "      <td>0.159297</td>\n",
              "      <td>-0.088929</td>\n",
              "      <td>-0.790881</td>\n",
              "    </tr>\n",
              "  </tbody>\n",
              "</table>\n",
              "<p>1 rows × 103 columns</p>\n",
              "</div>"
            ],
            "text/plain": [
              "                                            vecindex  y  weight      col0  \\\n",
              "0  [1.4841254154841106, 1.0441311125953991, 0.215...  0     1.0  1.484125   \n",
              "\n",
              "       col1      col2      col3      col4     col5      col6  ...     col90  \\\n",
              "0  1.044131  0.215191  0.278143  0.962704  0.90284  0.978578  ...  1.182462   \n",
              "\n",
              "      col91     col92    col93    col94     col95     col96     col97  \\\n",
              "0 -1.223395 -0.294203 -0.76379 -0.61891  1.142289 -0.446753  0.159297   \n",
              "\n",
              "      col98     col99  \n",
              "0 -0.088929 -0.790881  \n",
              "\n",
              "[1 rows x 103 columns]"
            ]
          },
          "execution_count": 131,
          "metadata": {},
          "output_type": "execute_result"
        }
      ],
      "source": [
        "# расцепить вектор -запроса по разным колонкам\n",
        "pdsdffull[[f'col{i}' for i in range(len(pdsdffull.iloc[0]['vecindex']))]]=pd.DataFrame(pdsdffull['vecindex'].tolist())\n",
        "pdsdffull.head(1)"
      ]
    },
    {
      "cell_type": "code",
      "execution_count": 209,
      "metadata": {},
      "outputs": [
        {
          "name": "stderr",
          "output_type": "stream",
          "text": [
            "[Parallel(n_jobs=-1)]: Using backend LokyBackend with 4 concurrent workers.\n",
            "[Parallel(n_jobs=-1)]: Done   1 out of   1 | elapsed:  2.8min finished\n"
          ]
        },
        {
          "name": "stdout",
          "output_type": "stream",
          "text": [
            "score=0.9305743689438893\n",
            "f1score=0.9505958429838532\n"
          ]
        }
      ],
      "source": [
        "clf=LogisticRegression(n_jobs=-1,verbose=1,random_state=0,C=1e5)\n",
        "X, y = pdsdffull.iloc[:, 2:], pdsdffull.iloc[:, 1]\n",
        "# сюда попал столбец с весами weight, который не предполагается использовать как фичи\n",
        "X_train, X_valid, y_train, y_valid =  train_test_split(X, y, test_size=0.3, shuffle=True)\n",
        "# первый столбец использовать для весов и не использозвать для фичей\n",
        "clf.fit(X_train.iloc[:, 1:].to_numpy(),y_train.to_numpy(),sample_weight=X_train.iloc[:, 0])\n",
        "y_predict=clf.predict(X_valid.iloc[:, 1:].to_numpy())\n",
        "print(f'score={clf.score(X_train.iloc[:, 1:].to_numpy(),y_train.to_numpy(),sample_weight=X_train.iloc[:, 0])}')\n",
        "print(f'f1score={f1_score(y_valid,y_predict)}')"
      ]
    },
    {
      "cell_type": "markdown",
      "metadata": {},
      "source": [
        "score=0.9079662636705298\n",
        "f1score=0.9507234025953372\n",
        "такой результат значительно лучше, уже можно использовать для различения категории запроса: товарный или НЕ товарный,\n",
        "причем всего-лишь по одному вектору, являющемуся средним для фразы всех слов в запросе"
      ]
    },
    {
      "cell_type": "code",
      "execution_count": 170,
      "metadata": {},
      "outputs": [
        {
          "name": "stdout",
          "output_type": "stream",
          "text": [
            "запрос из товарной группы\n",
            "запрос не идентифицирован, как товарный, найти ответ из болталки\n"
          ]
        }
      ],
      "source": [
        "\n",
        "print(choosetarget('юбка и брюки')[2])\n",
        "print(choosetarget('где бы попить поесть')[2])"
      ]
    },
    {
      "cell_type": "code",
      "execution_count": 149,
      "metadata": {},
      "outputs": [],
      "source": [
        "# проиндексировать двумя разными индексаторами оба датасета по столбцам vecindex и сохранить\n",
        "\n",
        "\n",
        "def prepindex(ds,annoyindex):\n",
        "    def applyvec(row):\n",
        "        # построить annoy индекс для векторов, характеризующих запросы (отдельно товарные и НЕ товарные)\n",
        "        nonlocal tmpcnt,start_time,lastcnt,t,annoyindex\n",
        "        tmpcnt+=1\n",
        "        if time.time()-start_time>2:\n",
        "            start_time = time.time()\n",
        "            #так было удобно сделать в одной строке\n",
        "            t.update((tmpcnt-lastcnt,lastcnt:=tmpcnt)[0])\n",
        "        annoyindex.add_item(row.name, row.vecindex)\n",
        "\n",
        "    t = tqdm(total=len(ds.index)) # инициализировать прогресбар \n",
        "    start_time = time.time() #использовать интервал для настройки частоты отображения прогресбара\n",
        "    tmpcnt=0\n",
        "    lastcnt=0\n",
        "    # сопоставить сохранить индекс каждого ряда с вектор-индексом фразы(из title или question)\n",
        "    _=ds.iloc[:].apply(applyvec,axis=1)\n",
        "    t.update((tmpcnt-lastcnt,lastcnt:=tmpcnt)[0])\n",
        "    t.close()\n"
      ]
    },
    {
      "cell_type": "code",
      "execution_count": 150,
      "metadata": {},
      "outputs": [
        {
          "name": "stderr",
          "output_type": "stream",
          "text": [
            "100%|██████████| 35548/35548 [00:03<00:00, 11481.21it/s]\n"
          ]
        }
      ],
      "source": [
        "indexProduct = annoy.AnnoyIndex(100 ,'angular')\n",
        "prepindex(pds,indexProduct)\n",
        "indexProduct.build(10) \n"
      ]
    },
    {
      "cell_type": "code",
      "execution_count": 192,
      "metadata": {},
      "outputs": [
        {
          "name": "stderr",
          "output_type": "stream",
          "text": [
            "100%|██████████| 1163330/1163330 [01:20<00:00, 14409.55it/s]\n"
          ]
        },
        {
          "data": {
            "text/plain": [
              "True"
            ]
          },
          "execution_count": 192,
          "metadata": {},
          "output_type": "execute_result"
        }
      ],
      "source": [
        "indexFlood = annoy.AnnoyIndex(100 ,'angular')\n",
        "prepindex(df,indexFlood)\n",
        "indexFlood.build(30,n_jobs=-1)\n"
      ]
    },
    {
      "cell_type": "markdown",
      "metadata": {
        "id": "snKnXkaQP5Oq"
      },
      "source": [
        "Теперь остается реализовать метод, который получит на вход вопрос и найдет ответ к нему!\n",
        "Мы препроцессим вопрос, находим ближайший вопрос и выбираем ответ на ближайший вопрос."
      ]
    },
    {
      "cell_type": "code",
      "execution_count": 58,
      "metadata": {},
      "outputs": [
        {
          "data": {
            "text/plain": [
              "'58e3cfe6132ca50e053f5f82 Юбка детская ORBY (запрос из товарной группы)'"
            ]
          },
          "execution_count": 58,
          "metadata": {},
          "output_type": "execute_result"
        }
      ],
      "source": [
        "get_answer('Юбка ORBY детская')"
      ]
    },
    {
      "cell_type": "code",
      "execution_count": 57,
      "metadata": {},
      "outputs": [
        {
          "data": {
            "text/plain": [
              "'key &amp; crack (alawar) видео помощь. (логистическая регрессия ошиблась при классификации)'"
            ]
          },
          "execution_count": 57,
          "metadata": {},
          "output_type": "execute_result"
        }
      ],
      "source": [
        "get_answer('Где ключи от танка')"
      ]
    },
    {
      "cell_type": "code",
      "execution_count": 56,
      "metadata": {},
      "outputs": [
        {
          "data": {
            "text/plain": [
              "'57de544096ad842e26de8027 Продам детские шапки (запрос из товарной группы)'"
            ]
          },
          "execution_count": 56,
          "metadata": {},
          "output_type": "execute_result"
        }
      ],
      "source": [
        "get_answer('куплю детские шапки')"
      ]
    },
    {
      "cell_type": "code",
      "execution_count": 31,
      "metadata": {},
      "outputs": [
        {
          "name": "stdout",
          "output_type": "stream",
          "text": [
            "Returns the `n` closest items to vector `vector`.\n",
            "\n",
            ":param search_k: the query will inspect up to `search_k` nodes.\n",
            "`search_k` gives you a run-time tradeoff between better accuracy and speed.\n",
            "`search_k` defaults to `n_trees * n` if not provided.\n",
            "\n",
            ":param include_distances: If `True`, this function will return a\n",
            "2 element tuple of lists. The first list contains the `n` closest items.\n",
            "The second list contains the corresponding distances.\n"
          ]
        }
      ],
      "source": [
        "print(index.get_nns_by_vector.__doc__)"
      ]
    },
    {
      "cell_type": "code",
      "execution_count": 53,
      "metadata": {},
      "outputs": [
        {
          "data": {
            "text/plain": [
              "'меня вобще прикалывает эта тема :).\\tкогда этобыло редкость - было забавно, а когда все знают, что эта фальшивка, то уже не прикольно, как силиконовые сиськи или как налепленные синтетические волосы.\\t'"
            ]
          },
          "execution_count": 53,
          "metadata": {},
          "output_type": "execute_result"
        }
      ],
      "source": [
        "df.loc[2].answer"
      ]
    },
    {
      "cell_type": "code",
      "execution_count": 20,
      "metadata": {},
      "outputs": [
        {
          "data": {
            "text/html": [
              "<div>\n",
              "<style scoped>\n",
              "    .dataframe tbody tr th:only-of-type {\n",
              "        vertical-align: middle;\n",
              "    }\n",
              "\n",
              "    .dataframe tbody tr th {\n",
              "        vertical-align: top;\n",
              "    }\n",
              "\n",
              "    .dataframe thead th {\n",
              "        text-align: right;\n",
              "    }\n",
              "</style>\n",
              "<table border=\"1\" class=\"dataframe\">\n",
              "  <thead>\n",
              "    <tr style=\"text-align: right;\">\n",
              "      <th></th>\n",
              "      <th>question_prep</th>\n",
              "      <th>answer</th>\n",
              "    </tr>\n",
              "  </thead>\n",
              "  <tbody>\n",
              "    <tr>\n",
              "      <th>1</th>\n",
              "      <td>вопрос тдв отдыхать лично советовать завести</td>\n",
              "      <td>хомячка....\\tмужика, йопаря, собачку и 50 коше...</td>\n",
              "    </tr>\n",
              "    <tr>\n",
              "      <th>2</th>\n",
              "      <td>парень относиться цветной линза девушка зелёны...</td>\n",
              "      <td>меня вобще прикалывает эта тема :).\\tкогда это...</td>\n",
              "    </tr>\n",
              "    <tr>\n",
              "      <th>3</th>\n",
              "      <td>делать найти 2 миллион рубль</td>\n",
              "      <td>если это \"счастье \" действительно на вас свали...</td>\n",
              "    </tr>\n",
              "    <tr>\n",
              "      <th>4</th>\n",
              "      <td>эбу двенашка называться итэлма эбу</td>\n",
              "      <td>эбу — электронный блок управления двигателем а...</td>\n",
              "    </tr>\n",
              "    <tr>\n",
              "      <th>5</th>\n",
              "      <td>академия вампир даный момент часть книга акаде...</td>\n",
              "      <td>4. охотники и жертвы, ледяной укус, поцелуй ть...</td>\n",
              "    </tr>\n",
              "  </tbody>\n",
              "</table>\n",
              "</div>"
            ],
            "text/plain": [
              "                                       question_prep  \\\n",
              "1       вопрос тдв отдыхать лично советовать завести   \n",
              "2  парень относиться цветной линза девушка зелёны...   \n",
              "3                       делать найти 2 миллион рубль   \n",
              "4                 эбу двенашка называться итэлма эбу   \n",
              "5  академия вампир даный момент часть книга акаде...   \n",
              "\n",
              "                                              answer  \n",
              "1  хомячка....\\tмужика, йопаря, собачку и 50 коше...  \n",
              "2  меня вобще прикалывает эта тема :).\\tкогда это...  \n",
              "3  если это \"счастье \" действительно на вас свали...  \n",
              "4  эбу — электронный блок управления двигателем а...  \n",
              "5  4. охотники и жертвы, ледяной укус, поцелуй ть...  "
            ]
          },
          "metadata": {},
          "output_type": "display_data"
        }
      ],
      "source": [
        "display(df.head(5))"
      ]
    },
    {
      "cell_type": "code",
      "execution_count": 287,
      "metadata": {},
      "outputs": [
        {
          "data": {
            "text/html": [
              "<div>\n",
              "<style scoped>\n",
              "    .dataframe tbody tr th:only-of-type {\n",
              "        vertical-align: middle;\n",
              "    }\n",
              "\n",
              "    .dataframe tbody tr th {\n",
              "        vertical-align: top;\n",
              "    }\n",
              "\n",
              "    .dataframe thead th {\n",
              "        text-align: right;\n",
              "    }\n",
              "</style>\n",
              "<table border=\"1\" class=\"dataframe\">\n",
              "  <thead>\n",
              "    <tr style=\"text-align: right;\">\n",
              "      <th></th>\n",
              "      <th>title</th>\n",
              "      <th>descrirption</th>\n",
              "      <th>product_id</th>\n",
              "      <th>category_id</th>\n",
              "      <th>subcategory_id</th>\n",
              "      <th>properties</th>\n",
              "      <th>image_links</th>\n",
              "      <th>title_prep</th>\n",
              "      <th>vecindex</th>\n",
              "    </tr>\n",
              "  </thead>\n",
              "  <tbody>\n",
              "    <tr>\n",
              "      <th>14169</th>\n",
              "      <td>Футболка новая L</td>\n",
              "      <td>Новая футболочка, ткань приятная к телу, не мн...</td>\n",
              "      <td>594b89dc2138bbd8f34f0732</td>\n",
              "      <td>9.0</td>\n",
              "      <td>909</td>\n",
              "      <td>{'futbolki_topy_tip': 'Футболки'}</td>\n",
              "      <td>http://cache3.youla.io/files/images/360_360/59...</td>\n",
              "      <td>футболка новый l</td>\n",
              "      <td>[0.3155921896298726, -0.4812539617220561, 0.97...</td>\n",
              "    </tr>\n",
              "    <tr>\n",
              "      <th>31432</th>\n",
              "      <td>Платье Турция 44 размер</td>\n",
              "      <td>Классное качество</td>\n",
              "      <td>5a9af387f6957692d20bdeb2</td>\n",
              "      <td>9.0</td>\n",
              "      <td>904</td>\n",
              "      <td>{}</td>\n",
              "      <td>http://cache3.youla.io/files/images/360_360/5a...</td>\n",
              "      <td>платье турция 44 размер</td>\n",
              "      <td>[0.6597742699086666, -0.9200384765863419, 1.57...</td>\n",
              "    </tr>\n",
              "  </tbody>\n",
              "</table>\n",
              "</div>"
            ],
            "text/plain": [
              "                         title  \\\n",
              "14169         Футболка новая L   \n",
              "31432  Платье Турция 44 размер   \n",
              "\n",
              "                                            descrirption  \\\n",
              "14169  Новая футболочка, ткань приятная к телу, не мн...   \n",
              "31432                                  Классное качество   \n",
              "\n",
              "                     product_id  category_id subcategory_id  \\\n",
              "14169  594b89dc2138bbd8f34f0732          9.0            909   \n",
              "31432  5a9af387f6957692d20bdeb2          9.0            904   \n",
              "\n",
              "                              properties  \\\n",
              "14169  {'futbolki_topy_tip': 'Футболки'}   \n",
              "31432                                 {}   \n",
              "\n",
              "                                             image_links  \\\n",
              "14169  http://cache3.youla.io/files/images/360_360/59...   \n",
              "31432  http://cache3.youla.io/files/images/360_360/5a...   \n",
              "\n",
              "                    title_prep  \\\n",
              "14169         футболка новый l   \n",
              "31432  платье турция 44 размер   \n",
              "\n",
              "                                                vecindex  \n",
              "14169  [0.3155921896298726, -0.4812539617220561, 0.97...  \n",
              "31432  [0.6597742699086666, -0.9200384765863419, 1.57...  "
            ]
          },
          "metadata": {},
          "output_type": "display_data"
        }
      ],
      "source": [
        "display(pds.sample(2))"
      ]
    },
    {
      "cell_type": "code",
      "execution_count": 288,
      "metadata": {},
      "outputs": [],
      "source": [
        "# сохранить\n",
        "model.save(f'{DIR}word2vec.model')\n",
        "word_vectors = model.wv\n",
        "word_vectors.save(f'{DIR}word2vec.wordvectors')\n",
        "\n",
        "indexFlood.save(f'{DIR}indexFlood.annoy')\n",
        "indexProduct.save(f'{DIR}indexProduct.annoy')\n",
        "\n",
        "df[['question_prep','answer']].to_csv(f'{DIR}mailruflood.csv')\n",
        "pds[['title','product_id','title_prep']].to_csv(f'{DIR}ProductsDS.csv')"
      ]
    },
    {
      "cell_type": "code",
      "execution_count": 291,
      "metadata": {},
      "outputs": [],
      "source": [
        "pickle.dump(clf, open(f'{DIR}LogisticRegression.sav', 'wb'))"
      ]
    }
  ],
  "metadata": {
    "colab": {
      "collapsed_sections": [],
      "name": "ChatBotPractice.ipynb",
      "provenance": []
    },
    "kernelspec": {
      "display_name": "Python 3.9.12 ('conda14_39')",
      "language": "python",
      "name": "python3"
    },
    "language_info": {
      "codemirror_mode": {
        "name": "ipython",
        "version": 3
      },
      "file_extension": ".py",
      "mimetype": "text/x-python",
      "name": "python",
      "nbconvert_exporter": "python",
      "pygments_lexer": "ipython3",
      "version": "3.9.12"
    },
    "nteract": {
      "version": "0.28.0"
    },
    "vscode": {
      "interpreter": {
        "hash": "35cde011295dad1d7ea1f11575169d87bca099d2160aa371a8eebd42f831077e"
      }
    }
  },
  "nbformat": 4,
  "nbformat_minor": 0
}

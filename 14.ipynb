{
 "cells": [
  {
   "cell_type": "markdown",
   "metadata": {},
   "source": [
    "нотбук по заданию в файле ChatBotPractice_final.ipynb,\n",
    "\n",
    "можно так же скачать из облака:(нотбук https://cloud.mail.ru/public/bZmD/oaqoczyHs)\n",
    "\n",
    "все дополнительные базы и индексы занимают гигантский объем,\n",
    "\n",
    "можно скачать из облака https://cloud.mail.ru/public/kuEb/ST3HQX2oN"
   ]
  }
 ],
 "metadata": {
  "kernelspec": {
   "display_name": "Python 3.9.13 ('t39': venv)",
   "language": "python",
   "name": "python3"
  },
  "language_info": {
   "name": "python",
   "version": "3.9.13"
  },
  "orig_nbformat": 4,
  "vscode": {
   "interpreter": {
    "hash": "52443ef649b0c02ce58261a274972d8d53dda257381b4a9387481aa49ddba638"
   }
  }
 },
 "nbformat": 4,
 "nbformat_minor": 2
}

{
  "cells": [
    {
      "cell_type": "code",
      "execution_count": null,
      "metadata": {},
      "outputs": [],
      "source": [
        "# conda install -c conda-forge python-annoy\n",
        "# conda install -c conda-forge pymorphy2\n",
        "# conda install -c conda-forge stop-words\n",
        "# conda install -c conda-forge gensim\n",
        "# conda install -c conda-forge ipywidgets\n",
        "\n",
        "# pip install chardet для определения кодировщика"
      ]
    },
    {
      "cell_type": "code",
      "execution_count": 1,
      "metadata": {
        "id": "1LJvRpgiP5Oe"
      },
      "outputs": [],
      "source": [
        "import os\n",
        "import string\n",
        "import annoy\n",
        "\n",
        "from pymorphy2 import MorphAnalyzer\n",
        "from stop_words import get_stop_words\n",
        "from gensim.models import Word2Vec\n",
        "\n",
        "import numpy as np\n",
        "from tqdm import tqdm_notebook\n",
        "import pandas as pd"
      ]
    },
    {
      "cell_type": "code",
      "execution_count": 3,
      "metadata": {},
      "outputs": [],
      "source": [
        "import codecs"
      ]
    },
    {
      "cell_type": "markdown",
      "metadata": {
        "id": "DrdA0HmPP5Oj"
      },
      "source": [
        "Предобработаем ответы mail.ru из файла: к каждому вопросу присоединим 1 ответ и запишем в файл на будущее. Это позволит нам сэкономить время и ресурсы при дальнейшем препроцессинге текста"
      ]
    },
    {
      "cell_type": "code",
      "execution_count": 7,
      "metadata": {
        "id": "Ul4dgvpnP5Ol"
      },
      "outputs": [
        {
          "name": "stderr",
          "output_type": "stream",
          "text": [
            "<timed exec>:8: TqdmDeprecationWarning: This function will be removed in tqdm==5.0.0\n",
            "Please use `tqdm.notebook.tqdm` instead of `tqdm.tqdm_notebook`\n"
          ]
        },
        {
          "data": {
            "application/json": {
              "ascii": false,
              "bar_format": null,
              "colour": null,
              "elapsed": 0.09289360046386719,
              "initial": 0,
              "n": 0,
              "ncols": null,
              "nrows": null,
              "postfix": null,
              "prefix": "",
              "rate": null,
              "total": null,
              "unit": "it",
              "unit_divisor": 1000,
              "unit_scale": false
            },
            "application/vnd.jupyter.widget-view+json": {
              "model_id": "ac0f35db599748719903c18659738b1a",
              "version_major": 2,
              "version_minor": 0
            },
            "text/plain": [
              "0it [00:00, ?it/s]"
            ]
          },
          "metadata": {},
          "output_type": "display_data"
        },
        {
          "name": "stdout",
          "output_type": "stream",
          "text": [
            "CPU times: total: 50.1 s\n",
            "Wall time: 50.5 s\n"
          ]
        }
      ],
      "source": [
        "%%time\n",
        "question = None\n",
        "written = False\n",
        "DIR=\"..\\\\..\\\\chunk\\\\14\\\\\"\n",
        "#Мы идем по всем записям, берем первую строку как вопрос\n",
        "# и после знака --- находим ответ\n",
        "with open(f\"{DIR}prepared_answers.txt\", \"w\",encoding = \"utf-8\") as fout:\n",
        "    with open(f\"{DIR}Otvety.txt\", \"r\",encoding='utf-8') as fin:\n",
        "        for line in tqdm_notebook(fin):\n",
        "            if line.startswith(\"---\"):\n",
        "                written = False\n",
        "                continue\n",
        "            if not written and question is not None:\n",
        "                fout.write(question.replace(\"\\t\", \" \").strip() + \"\\t\" + line.replace(\"\\t\", \" \"))\n",
        "                written = True\n",
        "                question = None\n",
        "                continue\n",
        "            if not written:\n",
        "                question = line.strip()\n",
        "                continue"
      ]
    },
    {
      "cell_type": "markdown",
      "metadata": {
        "id": "Hw5tHi8bP5Om"
      },
      "source": [
        "Теперь нам нужно предобработать текст, чтобы обучить word2vec и получить эмбеддинги. Удаляем знаки препинания и делаем лемматизацию"
      ]
    },
    {
      "cell_type": "code",
      "execution_count": 8,
      "metadata": {
        "id": "ky7bZJ9xP5On"
      },
      "outputs": [],
      "source": [
        "def preprocess_txt(line):\n",
        "    spls = \"\".join(i for i in line.strip() if i not in exclude).split()\n",
        "    spls = [morpher.parse(i.lower())[0].normal_form for i in spls]\n",
        "    spls = [i for i in spls if i not in sw and i != \"\"]\n",
        "    return spls"
      ]
    },
    {
      "cell_type": "code",
      "execution_count": 10,
      "metadata": {
        "id": "s_Ra2xeLP5On"
      },
      "outputs": [
        {
          "name": "stderr",
          "output_type": "stream",
          "text": [
            "C:\\Users\\vsevolod.volkov\\AppData\\Local\\Temp\\ipykernel_9448\\871568580.py:9: TqdmDeprecationWarning: This function will be removed in tqdm==5.0.0\n",
            "Please use `tqdm.notebook.tqdm` instead of `tqdm.tqdm_notebook`\n",
            "  for line in tqdm_notebook(fin):\n"
          ]
        },
        {
          "data": {
            "application/json": {
              "ascii": false,
              "bar_format": null,
              "colour": null,
              "elapsed": 0.056937456130981445,
              "initial": 0,
              "n": 0,
              "ncols": null,
              "nrows": null,
              "postfix": null,
              "prefix": "",
              "rate": null,
              "total": null,
              "unit": "it",
              "unit_divisor": 1000,
              "unit_scale": false
            },
            "application/vnd.jupyter.widget-view+json": {
              "model_id": "e707d9f6cfb64b27a2485fb3e1b2efea",
              "version_major": 2,
              "version_minor": 0
            },
            "text/plain": [
              "0it [00:00, ?it/s]"
            ]
          },
          "metadata": {},
          "output_type": "display_data"
        }
      ],
      "source": [
        "sentences = []\n",
        "\n",
        "morpher = MorphAnalyzer()\n",
        "sw = set(get_stop_words(\"ru\"))\n",
        "exclude = set(string.punctuation)\n",
        "c = 0\n",
        "\n",
        "with open(f\"{DIR}Otvety.txt\", \"r\",encoding='utf-8') as fin:\n",
        "    for line in tqdm_notebook(fin):\n",
        "        spls = preprocess_txt(line)\n",
        "        sentences.append(spls)\n",
        "        c += 1\n",
        "        if c > 500000:\n",
        "            break"
      ]
    },
    {
      "cell_type": "code",
      "execution_count": null,
      "metadata": {
        "id": "7ZiMlSWbP5Oo"
      },
      "outputs": [],
      "source": [
        "# Обучим модель word2vec на наших вопросах\n",
        "sentences = [i for i in sentences if len(i) > 2]\n",
        "model = Word2Vec(sentences=sentences, vector_size=100, min_count=1, window=5)\n",
        "model.save(\"w2v_model\")"
      ]
    },
    {
      "cell_type": "markdown",
      "metadata": {
        "id": "2i0XxCAuP5Op"
      },
      "source": [
        "Теперь нам нужно сложить в индекс все вопросы. Используем библиотеку annoy. Проходимся по всем ответам, считаем, что вектор предложения - сумма word2vecов слов, которые входят в него (конечно же усредненная)"
      ]
    },
    {
      "cell_type": "code",
      "execution_count": null,
      "metadata": {
        "id": "wwW3CG8tP5Op"
      },
      "outputs": [],
      "source": [
        "index = annoy.AnnoyIndex(100 ,'angular')\n",
        "\n",
        "index_map = {}\n",
        "counter = 0\n",
        "\n",
        "with open(\"prepared_answers.txt\", \"r\") as f:\n",
        "    for line in tqdm_notebook(f):\n",
        "        n_w2v = 0\n",
        "        spls = line.split(\"\\t\")\n",
        "        index_map[counter] = spls[1]\n",
        "        question = preprocess_txt(spls[0])\n",
        "        vector = np.zeros(100)\n",
        "        for word in question:\n",
        "            if word in model.wv:\n",
        "                vector += model.wv[word]\n",
        "                n_w2v += 1\n",
        "        if n_w2v > 0:\n",
        "            vector = vector / n_w2v\n",
        "        index.add_item(counter, vector)\n",
        "            \n",
        "        counter += 1\n",
        "\n",
        "index.build(10)\n",
        "index.save('speaker.ann')"
      ]
    },
    {
      "cell_type": "markdown",
      "metadata": {
        "id": "snKnXkaQP5Oq"
      },
      "source": [
        "Теперь остается реализовать метод, который получит на вход вопрос и найдет ответ к нему!\n",
        "Мы препроцессим вопрос, находим ближайший вопрос и выбираем ответ на ближайший вопрос."
      ]
    },
    {
      "cell_type": "code",
      "execution_count": null,
      "metadata": {
        "id": "mPSLEsqWP5Or"
      },
      "outputs": [],
      "source": [
        "def find_answer(question):\n",
        "    preprocessed_question = preprocess_txt(question)\n",
        "    n_w2v = 0\n",
        "    vector = np.zeros(100)\n",
        "    for word in preprocessed_question:\n",
        "        if word in model.wv:\n",
        "            vector += model.wv[word]\n",
        "            n_w2v += 1\n",
        "    if n_w2v > 0:\n",
        "        vector = vector / n_w2v\n",
        "    answer_index = index.get_nns_by_vector(vector, 1)\n",
        "    return index_map[answer_index[0]]"
      ]
    }
  ],
  "metadata": {
    "colab": {
      "collapsed_sections": [],
      "name": "ChatBotPractice.ipynb",
      "provenance": []
    },
    "kernelspec": {
      "display_name": "Python 3.9.12 ('conda14_39')",
      "language": "python",
      "name": "python3"
    },
    "language_info": {
      "codemirror_mode": {
        "name": "ipython",
        "version": 3
      },
      "file_extension": ".py",
      "mimetype": "text/x-python",
      "name": "python",
      "nbconvert_exporter": "python",
      "pygments_lexer": "ipython3",
      "version": "3.9.12"
    },
    "nteract": {
      "version": "0.28.0"
    },
    "vscode": {
      "interpreter": {
        "hash": "35cde011295dad1d7ea1f11575169d87bca099d2160aa371a8eebd42f831077e"
      }
    }
  },
  "nbformat": 4,
  "nbformat_minor": 0
}
